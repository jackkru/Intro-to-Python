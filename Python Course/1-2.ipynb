{
 "cells": [
  {
   "cell_type": "markdown",
   "metadata": {},
   "source": [
    "# Einführung in das Programmieren in Python\n",
    "# Session 1-2: Data Types and Methods"
   ]
  },
  {
   "cell_type": "markdown",
   "metadata": {},
   "source": [
    "Jack Krüger, Sebastian Staab\n",
    "\n",
    "SS 21\n",
    "\n",
    "In this session we will explore the fundamental data types that exist in Python. We will look at how to convertFurthermore, by doing so we will see how basic **functions** are executed, information is stored in **variables** and code is structured with **conditional** and **control flow statements**. "
   ]
  },
  {
   "cell_type": "markdown",
   "metadata": {},
   "source": [
    "## 1.6 Data Types"
   ]
  },
  {
   "cell_type": "markdown",
   "metadata": {},
   "source": [
    "In Python, every variable value has a certain **data type**. Actually every data type is a **class** and every **value** is an **instance** of any of these classes. When we declare a variable, we do not need to explicitly mention the data type. This feature is famously known as **dynamic typing**.\n",
    "\n",
    "We will discuss the **standard data types** in Python step by step. But first let us get an **overview** of them all:\n",
    "\n",
    "| Data Type | Description |\n",
    "| -------- | ------- |\n",
    "| `Integer` | integer number |\n",
    "| `Float` | floating point number |\n",
    "| `Boolean` | truth value (either true or false) |\n",
    "| `String` | text |\n",
    "| `Array` | mutable sequence of values with same type |\n",
    "| `Tuple` | immutable sequence of values of any types |\n",
    "| `List` | mutable sequence of values of any types |\n",
    "| `Dictionary` | associative mapping with keys and values |\n",
    "| `Set` | unordered set of distinct values |"
   ]
  },
  {
   "cell_type": "markdown",
   "metadata": {},
   "source": [
    "### Integer and Float"
   ]
  },
  {
   "cell_type": "markdown",
   "metadata": {},
   "source": [
    "Ideally we start with the **numerical types** because we have already got to know them. \n",
    "\n",
    "The first is `Integer` and can hold **whole numbers**, **positive** or **negative**. `Integer` cannot hold decimals. In order use **decimals**, a `Float` must be used. `Float` can also hold positive and negative numbers. \n",
    "\n",
    "Let us try this with an **example**. To verify the **type** of any object, we use the function `type()`."
   ]
  },
  {
   "cell_type": "code",
   "execution_count": 40,
   "metadata": {},
   "outputs": [
    {
     "data": {
      "text/plain": [
       "int"
      ]
     },
     "execution_count": 40,
     "metadata": {},
     "output_type": "execute_result"
    }
   ],
   "source": [
    "# define integer number\n",
    "base = 7\n",
    "\n",
    "# check type of integer number\n",
    "type(base)"
   ]
  },
  {
   "cell_type": "code",
   "execution_count": 46,
   "metadata": {},
   "outputs": [
    {
     "name": "stdout",
     "output_type": "stream",
     "text": [
      "<class 'float'>\n"
     ]
    }
   ],
   "source": [
    "# define decimal number\n",
    "dec = 7.7\n",
    "\n",
    "# check type of decimal number\n",
    "print(type(dec))"
   ]
  },
  {
   "cell_type": "markdown",
   "metadata": {},
   "source": [
    "### Boolean"
   ]
  },
  {
   "cell_type": "markdown",
   "metadata": {},
   "source": [
    "The next data type is of great importance in programming, as we will see with the **conditional** and **control flow statements** today. `Boolean` can hold **truth values**, which are either `True` or `False`. In comparison to the numerical context they behave like `1` and `0`. \n",
    "\n",
    "Let us initialize our **first boolean**. To verify the **type** of any object, we use the function `type()`."
   ]
  },
  {
   "cell_type": "code",
   "execution_count": 42,
   "metadata": {},
   "outputs": [
    {
     "data": {
      "text/plain": [
       "bool"
      ]
     },
     "execution_count": 42,
     "metadata": {},
     "output_type": "execute_result"
    }
   ],
   "source": [
    "# initialize boolean\n",
    "difficult = False\n",
    "\n",
    "# check type of boolean\n",
    "type(difficult)"
   ]
  },
  {
   "cell_type": "code",
   "execution_count": 45,
   "metadata": {},
   "outputs": [
    {
     "name": "stdout",
     "output_type": "stream",
     "text": [
      "<class 'bool'>\n"
     ]
    }
   ],
   "source": [
    "# initialize boolean\n",
    "easy = True\n",
    "\n",
    "# check type of boolean\n",
    "print(type(easy))"
   ]
  },
  {
   "cell_type": "markdown",
   "metadata": {},
   "source": [
    "### String"
   ]
  },
  {
   "cell_type": "markdown",
   "metadata": {},
   "source": [
    "We have already seen the next data type too, as we printed text with the function `print()`. In general, **text** can be held in `String`, with the text surrounded either by **single quotation marks** or **double quotation marks**. Accordingly `\"Hello world\"` is the same as `'Hello world'`. To write a `String` over **multiple lines**, you can use **three quotation marks**.\n",
    "\n",
    "Let us write some **first texts**. To **prompt** the texts, we use the function `print()`. To verify the **type** of any object, we use the function `type()`."
   ]
  },
  {
   "cell_type": "code",
   "execution_count": 44,
   "metadata": {},
   "outputs": [
    {
     "name": "stdout",
     "output_type": "stream",
     "text": [
      "I love Python\n",
      "<class 'str'>\n"
     ]
    }
   ],
   "source": [
    "# initialize string\n",
    "sentence = \"I love Python\"\n",
    "\n",
    "# print string\n",
    "print(sentence)\n",
    "\n",
    "# check type of string\n",
    "print(type(sentence))"
   ]
  },
  {
   "cell_type": "code",
   "execution_count": 49,
   "metadata": {},
   "outputs": [
    {
     "name": "stdout",
     "output_type": "stream",
     "text": [
      "I love python\n",
      "We can add more\n",
      "This is easy\n",
      "\n",
      "<class 'str'>\n"
     ]
    }
   ],
   "source": [
    "# initialize multiline string\n",
    "sentences = \"\"\"I love python\n",
    "We can add more\n",
    "This is easy\n",
    "\"\"\"\n",
    "\n",
    "# print multiline string\n",
    "print(sentences)\n",
    "\n",
    "# check type of multiline string\n",
    "print(type(sentences))"
   ]
  },
  {
   "cell_type": "markdown",
   "metadata": {},
   "source": [
    "Due to the fact that `String` is a **sequence** of **characters**, the **individual characters** can also be accessed using **indexing** and **slicing**. Each letter, number, whitespace or symbol gets its own index. With a **positive index** you can access a `String`, where the index starts with `0` from the **beginning** of the string. With a **negative index** you can also access a string, this is especially helpful if you want to access the **ending** of the `String`. In the negative case the index starts with `-1` at the end of the string. \n",
    "\n",
    "Let us have a look at the **index breakdown** of a string.\n",
    "\n",
    "| Character | I | | l | o| v| e |  | P | y | t | h | o | n | !   \n",
    "| --- | --- | --- | --- | --- | --- | --- | --- | --- | --- | --- | --- | --- | --- | ---\n",
    "| Positive Index | 0 | 1 | 2 | 3 | 4 | 5 | 6 | 7 | 8 | 9 | 10 | 11 | 12 | 13\n",
    "| Negative Index | -14 | -13 | -12 | -11 | -10 | -9 | -8 | -7 | -6 | -5 | -4 | -3 | -2 | -1"
   ]
  },
  {
   "cell_type": "markdown",
   "metadata": {},
   "source": [
    "To access a **single character** within a `String`, we simply take its index and write it in **square brackets** behind the **variable name** where the `String` is stored. \n",
    "\n",
    "Let us try to get the **exclamation mark** out of the previous `String`."
   ]
  },
  {
   "cell_type": "code",
   "execution_count": 52,
   "metadata": {},
   "outputs": [
    {
     "name": "stdout",
     "output_type": "stream",
     "text": [
      "!\n",
      "!\n"
     ]
    }
   ],
   "source": [
    "# initialize string\n",
    "sentence = \"I love Python!\"\n",
    "\n",
    "\n",
    "# print character with positive index\n",
    "print(sentence[13])\n",
    "\n",
    "# print character with negative index\n",
    "print(sentence[-1])"
   ]
  },
  {
   "cell_type": "markdown",
   "metadata": {},
   "source": [
    "To access **multiple** (but not all) **characters** in a `String`, you can use the same indexes to make **slices**. With slices, a **range** of **characters** is taken from the actual `String` based on their index numbers. Note that the **first character** at the slice start is **inclusive** and the **last character** at the slice end is **exclusive**. For slicing, the slice start and slice end are again written in **square brackets** behind the **variable name**, where both are separated by a **colon**. If you omit the start slice or the end slice, and use a colon, the `String` is simply used from the beginning or to the end. \n",
    "\n",
    "You can do the same with **negative indexes**, but keep in mind that start and end index are **reversed**, and thus also which **character** is **inclusive** and **exclusive**. We will not go into detail here, just try it yourself. \n",
    "\n",
    "Let us try to extract **some parts** of the previous `String`."
   ]
  },
  {
   "cell_type": "code",
   "execution_count": 55,
   "metadata": {},
   "outputs": [
    {
     "name": "stdout",
     "output_type": "stream",
     "text": [
      "Python\n",
      "I love \n",
      "Python!\n"
     ]
    }
   ],
   "source": [
    "# extract inside characters\n",
    "print(sentence[7:13])\n",
    "\n",
    "# extract beginning characters\n",
    "print(sentence[:7])\n",
    "\n",
    "# extract ending characters\n",
    "print(sentence[7:])"
   ]
  },
  {
   "cell_type": "markdown",
   "metadata": {},
   "source": [
    "<div class=\"alert alert-block alert-info\">\n",
    "    <b>Exercise</b>: Create 3 new objects. <b> object_1</b> should be of type <b> int</b>, <b> object_2</b> should be of type <b> boolean</b>, and <b> object_3</b> should be of type <b> string</b>. \n",
    "</div>"
   ]
  },
  {
   "cell_type": "code",
   "execution_count": 56,
   "metadata": {},
   "outputs": [],
   "source": [
    "object_1 = 8\n",
    "object_2 = True\n",
    "object_3 = \"Hello World!\""
   ]
  },
  {
   "cell_type": "markdown",
   "metadata": {},
   "source": [
    "<div class=\"alert alert-block alert-info\">\n",
    "    <b>Exercise</b>: Check the type of each of your new objects.\n",
    "</div>"
   ]
  },
  {
   "cell_type": "code",
   "execution_count": 57,
   "metadata": {},
   "outputs": [
    {
     "name": "stdout",
     "output_type": "stream",
     "text": [
      "<class 'int'>\n",
      "<class 'bool'>\n",
      "<class 'str'>\n"
     ]
    }
   ],
   "source": [
    "print(type(object_1))\n",
    "print(type(object_2))\n",
    "print(type(object_3))"
   ]
  },
  {
   "cell_type": "markdown",
   "metadata": {},
   "source": [
    "### Array"
   ]
  },
  {
   "cell_type": "markdown",
   "metadata": {},
   "source": [
    "In addition to the primitive data types that we have dealt with so far, there are also data types which are rather a collection of these. Traditionally, the `Array` is the first **non-primitive data type** that is dealt with. In general, `Array` in Python are a compact way of **collecting basic data types**, all the entries in an `Array` must be of the **same data type**. However, `Array` is not popularly used in Python and not a build in data type, unlike in other programming languages. To work with them you would need to `import` **additional libraries**.\n",
    "\n",
    "In general, when people talk of an `Array` in Python, they are actually referring to `List`. However, when we will work with the `numpy` library, you will see that there are **fundamental differences** between them. But at this point, we will first discuss what a `List` is."
   ]
  },
  {
   "cell_type": "markdown",
   "metadata": {},
   "source": [
    "### Tuple"
   ]
  },
  {
   "cell_type": "markdown",
   "metadata": {},
   "source": [
    "But before we actually get to `List`, we will discuss another data type that exists in Python. `Tuple` is another **standard sequence data type**. The main difference between `Tuple` and `List` is that `Tuple` is **immutable**, which means once defined you cannot delete, add or edit any values inside it. Due to this property, `Tuple` is mainly suitable for collections which are fixed and will not change. \n",
    "\n",
    "`Tuple` is typed with **round brackets**, `(` and `)`, and its **elements** are separated by a comma `,`. To access certain **values** inside your `Tuple`, you can use their **indexes** again. \n",
    "\n",
    "Let us create our first `Tuple`. To verify the **type** of any object, we use the function `type()`."
   ]
  },
  {
   "cell_type": "code",
   "execution_count": 58,
   "metadata": {},
   "outputs": [
    {
     "name": "stdout",
     "output_type": "stream",
     "text": [
      "<class 'tuple'>\n"
     ]
    }
   ],
   "source": [
    "# define tuple\n",
    "points = (0,1,2,3,4,5)\n",
    "\n",
    "# check type of tuple\n",
    "print(type(points))"
   ]
  },
  {
   "cell_type": "markdown",
   "metadata": {},
   "source": [
    "### List"
   ]
  },
  {
   "cell_type": "markdown",
   "metadata": {},
   "source": [
    "A `List` is a data structure that contains **multiple values** in an **ordered sequence**. These are **mutable**, which means that you can change their content without changing their identity. You can recognize a `List` by its **square brackets** `[` and `]` that hold **elements**, separated by a **comma** `,`. `List` is built into Python: you do not need to invoke them separately.\n",
    "\n",
    "Let us create our first list. To verify the **type** of any object, we use the function `type()`."
   ]
  },
  {
   "cell_type": "code",
   "execution_count": 59,
   "metadata": {},
   "outputs": [
    {
     "name": "stdout",
     "output_type": "stream",
     "text": [
      "<class 'list'>\n"
     ]
    }
   ],
   "source": [
    "# define list of integer numbers\n",
    "points = [0,1,2,3,4,5]\n",
    "\n",
    "# check type of list with integer numbers\n",
    "print(type(points))"
   ]
  },
  {
   "cell_type": "markdown",
   "metadata": {},
   "source": [
    "A `List` can contain various **elements** of **different data types**, which can be duplicates and `List` again.\n",
    "\n",
    "Let us look at a **worst-case example** to illustrate what is **principally possible**. "
   ]
  },
  {
   "cell_type": "code",
   "execution_count": 64,
   "metadata": {},
   "outputs": [
    {
     "name": "stdout",
     "output_type": "stream",
     "text": [
      "<class 'str'>\n"
     ]
    }
   ],
   "source": [
    "# define list with different data types\n",
    "messy_points = [False, 1, [2,3,4,5, [6,7,8]], \"nine\"]\n",
    "\n",
    "# check type of list with different data types\n",
    "print(type(messy_points[-1]))"
   ]
  },
  {
   "cell_type": "markdown",
   "metadata": {},
   "source": [
    "Whenever we want to access an individual **element** of a `List` we can do so by typing the **list name** and the **index** of the element in **square brackets**. And if we want to access **multiple elements** in a `List`, then it also remains the same, we can select with **slicing** a start and stop index. Again, indexes start at zero, and may be negative. "
   ]
  },
  {
   "cell_type": "code",
   "execution_count": 62,
   "metadata": {},
   "outputs": [
    {
     "name": "stdout",
     "output_type": "stream",
     "text": [
      "3\n",
      "[0, 1, 2]\n"
     ]
    }
   ],
   "source": [
    "# define list\n",
    "points = [0,1,2,3,4,5,6]\n",
    "\n",
    "# extract one element\n",
    "print(points[3])\n",
    "\n",
    "# extract multiple elements\n",
    "print(points[:3])"
   ]
  },
  {
   "cell_type": "code",
   "execution_count": null,
   "metadata": {},
   "outputs": [],
   "source": []
  },
  {
   "cell_type": "code",
   "execution_count": 65,
   "metadata": {},
   "outputs": [],
   "source": [
    "messy_points = [False, 1, [2, 3, 4, 5, [6, 7, 8, 9]], \"ten\"]"
   ]
  },
  {
   "cell_type": "markdown",
   "metadata": {},
   "source": [
    "<div class=\"alert alert-block alert-info\">\n",
    "    <b>Exercise</b>: How many elements are in the list <b>messy_points</b>? What are the data types of each of these elements?\n",
    "</div>"
   ]
  },
  {
   "cell_type": "code",
   "execution_count": 66,
   "metadata": {},
   "outputs": [
    {
     "name": "stdout",
     "output_type": "stream",
     "text": [
      "4\n"
     ]
    }
   ],
   "source": [
    "print(len(messy_points))"
   ]
  },
  {
   "cell_type": "code",
   "execution_count": 67,
   "metadata": {},
   "outputs": [
    {
     "name": "stdout",
     "output_type": "stream",
     "text": [
      "<class 'bool'>\n",
      "<class 'int'>\n",
      "<class 'list'>\n",
      "<class 'str'>\n"
     ]
    }
   ],
   "source": [
    "print(type(messy_points[0]))\n",
    "print(type(messy_points[1]))\n",
    "print(type(messy_points[2]))\n",
    "print(type(messy_points[3]))"
   ]
  },
  {
   "cell_type": "code",
   "execution_count": 70,
   "metadata": {},
   "outputs": [],
   "source": [
    "example = list(range(0,10,1))"
   ]
  },
  {
   "cell_type": "code",
   "execution_count": 71,
   "metadata": {},
   "outputs": [
    {
     "data": {
      "text/plain": [
       "list"
      ]
     },
     "execution_count": 71,
     "metadata": {},
     "output_type": "execute_result"
    }
   ],
   "source": [
    "type(example)"
   ]
  },
  {
   "cell_type": "markdown",
   "metadata": {},
   "source": [
    "In contrast to a `Tuple`, the **elements** in a `List` can also be **changed afterwards**. How we add and delete elements, we will learn later in the methods section. But we can already discuss here how **elements** inside a `List` can be **changed**. For this, the elements which are supposed to be changed are called with their **index** or **slice** and then assigned to **new elements**. "
   ]
  },
  {
   "cell_type": "code",
   "execution_count": 74,
   "metadata": {},
   "outputs": [
    {
     "name": "stdout",
     "output_type": "stream",
     "text": [
      "[0, 1, 2, 3, 4, 5, 6, 7, 8, 8, 11]\n",
      "[0, 1, 2, 3, 4, 5, 6, 7, 8, 9, 10]\n"
     ]
    }
   ],
   "source": [
    "# define list\n",
    "points = [0,1,2,3,4,5,6,7,8,9,10]\n",
    "\n",
    "# overwrite element\n",
    "points[-1] = 11\n",
    "points[-2] = 8\n",
    "\n",
    "# print list\n",
    "print(points)\n",
    "\n",
    "# modify elements\n",
    "points[-1] = 10\n",
    "points[-2] = 9\n",
    "\n",
    "# print list\n",
    "print(points)"
   ]
  },
  {
   "cell_type": "markdown",
   "metadata": {},
   "source": [
    "Another characteristic of `List` is that it cannot be simply copied from variable to variable. Only the **reference** where the `List` is saved is stored in the **variable**. For example, if you copy `list1` to `list2`, all changes made in `list1` will automatically change `list2` too, and vice versa. To actually create a new `list2`, you can pass the original `list1` into the function `list()` to actually **force** a new `List`. \n",
    "\n",
    "Let us take a look at a **common problem** with **references**."
   ]
  },
  {
   "cell_type": "code",
   "execution_count": 76,
   "metadata": {},
   "outputs": [
    {
     "name": "stdout",
     "output_type": "stream",
     "text": [
      "[0, 1, 2, 3, 4, 5]\n"
     ]
    }
   ],
   "source": [
    "# define list\n",
    "points = [0,1,2,3,4,5]\n",
    "\n",
    "# create new list\n",
    "new_points = list(points)\n",
    "\n",
    "# modify new list\n",
    "new_points[-1] = 11\n",
    "\n",
    "# print original list\n",
    "print(points)"
   ]
  },
  {
   "cell_type": "markdown",
   "metadata": {},
   "source": [
    "### Dictionary"
   ]
  },
  {
   "cell_type": "markdown",
   "metadata": {},
   "source": [
    "Like a `List`, a `Dictionary` is a **collection** of **many values**. Unlike `List`, which is indexed by a range of numbers, `Dictionary` is indexed by keys. **Keys** for `Dictionary` can use many different data types, not just integers. It is best to think of a dictionary as an **unordered set** of **key-value-pairs**, with the requirement that the **keys** are **unique** (within one dictionary). A pair of **curly brackets** creates an empty `Dictionary`: `{` and `}`. In them you can add as many **key-value-pairs** as you like, each written in the notation `key: value`, and separated by **commas** `,`. \n",
    "\n",
    "`Dictionary` is exactly what you need if you want to implement something similar to a **telephone book**. None of the data structures that you have seen before are suitable for a telephone book.\n",
    "\n",
    "Let us create our first `Dictionary`. To verify the **type** of any object, we use the function `type()`."
   ]
  },
  {
   "cell_type": "code",
   "execution_count": 77,
   "metadata": {},
   "outputs": [
    {
     "data": {
      "text/plain": [
       "dict"
      ]
     },
     "execution_count": 77,
     "metadata": {},
     "output_type": "execute_result"
    }
   ],
   "source": [
    "# define dictionary\n",
    "happy = {\"no\": [0,1,2,3,4], \"yes\": [5,6,7,8]}\n",
    "\n",
    "# check type of dictionary\n",
    "type(happy)"
   ]
  },
  {
   "cell_type": "markdown",
   "metadata": {},
   "source": [
    "If we want to **access** a certain **value** inside a `Dictionary`, then we can access it by typing the **dictionary name** followed by the corresponding **key** inside **square brackets**. \n",
    "\n",
    "Let us try to get the **value** in a `Dictionary` based on its **key**."
   ]
  },
  {
   "cell_type": "code",
   "execution_count": 80,
   "metadata": {},
   "outputs": [
    {
     "data": {
      "text/plain": [
       "[5, 6, 7, 8]"
      ]
     },
     "execution_count": 80,
     "metadata": {},
     "output_type": "execute_result"
    }
   ],
   "source": [
    "# print value\n",
    "happy[\"yes\"]"
   ]
  },
  {
   "cell_type": "markdown",
   "metadata": {},
   "source": [
    "Just like in a `List`, you can change and add elements in a `Dictionary` afterwards. To change the value of an **existing key**, the position of the **key** in the `Dictionary` can be **overwritten**. We have already seen how this works with a `List`. In addition, **new keys** can be added by simply adding a new key to the dictionary using the **key** as **index** and assigning it to the corresponding **value**. \n",
    "\n",
    "Let us try to **change** an **existing dictionary**. "
   ]
  },
  {
   "cell_type": "code",
   "execution_count": 82,
   "metadata": {},
   "outputs": [
    {
     "name": "stdout",
     "output_type": "stream",
     "text": [
      "{'no': [0, 1, 2, 3, 4], 'yes': [9, 10, 11], 'maybe': [5, 6, 7, 8]}\n"
     ]
    }
   ],
   "source": [
    "# modify existing key-value-pair\n",
    "happy[\"yes\"] = [9,10,11]\n",
    "\n",
    "# add new key-valie-pair\n",
    "happy[\"maybe\"] = [5,6,7,8]\n",
    "\n",
    "# print dictionary\n",
    "print(happy)"
   ]
  },
  {
   "cell_type": "markdown",
   "metadata": {},
   "source": [
    "As with a `List`, a `Dictionary` cannot be simply copied from variable to variable as well. The reason is that only a **reference** is stored in the **variable**. To actually create a new `Dictionary`, you can pass the original `Dictionary` into the function `dict()` to actually **force** a new `Dictionary`.  \n",
    "\n",
    "Let us demonstrate how to make an **independent copy** of a `Dictionary`. "
   ]
  },
  {
   "cell_type": "code",
   "execution_count": 84,
   "metadata": {},
   "outputs": [
    {
     "name": "stdout",
     "output_type": "stream",
     "text": [
      "{'no': [0, 1, 2, 3, 4], 'yes': [5, 6, 7, 8]}\n"
     ]
    }
   ],
   "source": [
    "happy = {\"no\": [0,1,2,3,4], \"yes\": [5,6,7,8]}\n",
    "\n",
    "# initialize copy\n",
    "new_happy = dict(happy)\n",
    "\n",
    "# modify copy\n",
    "new_happy[\"no\"] = True\n",
    "\n",
    "# print original dictionary\n",
    "print(happy)"
   ]
  },
  {
   "cell_type": "markdown",
   "metadata": {},
   "source": [
    "### Set"
   ]
  },
  {
   "cell_type": "code",
   "execution_count": 85,
   "metadata": {},
   "outputs": [
    {
     "name": "stdout",
     "output_type": "stream",
     "text": [
      "{0, 1, 2, 3}\n",
      "<class 'set'>\n"
     ]
    }
   ],
   "source": [
    "# define set\n",
    "points = {0,1,2,3}\n",
    "\n",
    "\n",
    "# print set\n",
    "print(points)\n",
    "\n",
    "# check type of set\n",
    "print(type(points))"
   ]
  },
  {
   "cell_type": "markdown",
   "metadata": {},
   "source": [
    "<div class=\"alert alert-block alert-info\">\n",
    "    <b>Exercise</b>: A small zoo currently only has 5 animals - a lion, a giraffe, an elephant, a monkey, and a snake. Store this info in the most appropriate data type.\n",
    "</div>"
   ]
  },
  {
   "cell_type": "code",
   "execution_count": 86,
   "metadata": {},
   "outputs": [],
   "source": [
    "zoo = [\"Lion\", \"Giraffe\", \"Elephant\", \"Monkey\", \"Snake\"]"
   ]
  },
  {
   "cell_type": "code",
   "execution_count": null,
   "metadata": {},
   "outputs": [],
   "source": []
  },
  {
   "cell_type": "code",
   "execution_count": null,
   "metadata": {},
   "outputs": [],
   "source": []
  },
  {
   "cell_type": "code",
   "execution_count": null,
   "metadata": {},
   "outputs": [],
   "source": []
  },
  {
   "cell_type": "markdown",
   "metadata": {},
   "source": [
    "<div class=\"alert alert-block alert-info\">\n",
    "    <b>Exercise</b>: Suppose you want to be able to find out students' current assignment scores based on their student ID. One student has a student ID 01/99999 and assignment scores are 9, 8, 10 points. Another student has a student ID 01/55555, and assignment scores 7, 10, 10. Choose the most appropriate data type. \n",
    "</div>"
   ]
  },
  {
   "cell_type": "code",
   "execution_count": 87,
   "metadata": {},
   "outputs": [],
   "source": [
    "scores = {\"01/99999\": [9,8,10], \"01/55555\": [7,10,10]}"
   ]
  },
  {
   "cell_type": "code",
   "execution_count": 88,
   "metadata": {},
   "outputs": [
    {
     "data": {
      "text/plain": [
       "[9, 8, 10]"
      ]
     },
     "execution_count": 88,
     "metadata": {},
     "output_type": "execute_result"
    }
   ],
   "source": [
    "scores[\"01/99999\"]"
   ]
  },
  {
   "cell_type": "markdown",
   "metadata": {},
   "source": [
    "## 1.8 Type Conversion"
   ]
  },
  {
   "cell_type": "markdown",
   "metadata": {},
   "source": [
    "Now that we can determine the most appropriate data type for our use case, nothing can go wrong anymore right?\n",
    "\n",
    "Not quite. What we do not know yet is how the **different data types** can be **combined**, e.g. in calculations. What data type can be linked with other data types is mostly a matter of **experience**. But luckily Python offers a big support here: **Implicit type conversion**. This is the **automatic conversion** of Python into the **smallest common data type**, when operands of different types appear in an expression, such that they have the same type. \n",
    "\n",
    "For all other cases, there is the **explicit type conversion**: Using the **functions** for the different **data types**, certain types can be converted into others. \n",
    "\n",
    "Here is a brief **overview** of which **functions** can be called to explicitly convert to the corresponding data type, and with which **data types** it is compatible.\n",
    "\n",
    "| Function | Compatible Data Types  |\n",
    "| -------- | ------- |\n",
    "| `bool()` | `Boolean`, `Integer`, `Float`, `String`, `Tuple`, `List`, `Dictionary`, `Set` |\n",
    "| `float()` | `Integer`, `Float`, `String` |\n",
    "| `int()` | `Integer`, `Float`, `String` |\n",
    "| `str()` | `Integer`, `Float`, `String`, `Tuple`, `List`, `Dictionary`, `Set` |\n",
    "| `tuple()` | `Tuple`, `List` |\n",
    "| `list()` | `String`, `Tuple`, `List`, `Dictionary`, `Set` |\n",
    "| `dict()` | `Dictionary` |\n",
    "| `set()` | `String`, `Tuple`, `List`, `Dictionary`, `Set` |\n",
    "\n",
    "Let us do a couple of **examples** with **explicit type conversion**. "
   ]
  },
  {
   "cell_type": "code",
   "execution_count": 92,
   "metadata": {},
   "outputs": [
    {
     "name": "stdout",
     "output_type": "stream",
     "text": [
      "<class 'int'>\n",
      "<class 'int'>\n",
      "<class 'float'>\n"
     ]
    }
   ],
   "source": [
    "a = 7\n",
    "b = 6\n",
    "print(type(a))\n",
    "print(type(b))\n",
    "print(type(a/b))"
   ]
  },
  {
   "cell_type": "code",
   "execution_count": 93,
   "metadata": {},
   "outputs": [
    {
     "name": "stdout",
     "output_type": "stream",
     "text": [
      "1\n"
     ]
    }
   ],
   "source": [
    "# define float\n",
    "result = 1.4142\n",
    "\n",
    "# convert float to integer\n",
    "result = int(result)\n",
    "\n",
    "# print integer\n",
    "print(result)"
   ]
  },
  {
   "cell_type": "code",
   "execution_count": 95,
   "metadata": {},
   "outputs": [
    {
     "name": "stdout",
     "output_type": "stream",
     "text": [
      "1.4142\n"
     ]
    }
   ],
   "source": [
    "# define string\n",
    "sentence = \"1.4142\"\n",
    "\n",
    "# convert string to float\n",
    "sentence = float(sentence)\n",
    "\n",
    "# print float\n",
    "print(sentence)"
   ]
  },
  {
   "cell_type": "code",
   "execution_count": 96,
   "metadata": {},
   "outputs": [
    {
     "name": "stdout",
     "output_type": "stream",
     "text": [
      "['I', ' ', 'l', 'o', 'v', 'e', ' ', 'P', 'y', 't', 'h', 'o', 'n', '!']\n"
     ]
    }
   ],
   "source": [
    "# define string\n",
    "sentence = \"I love Python!\"\n",
    "\n",
    "# convert string to list\n",
    "sentence = list(sentence)\n",
    "\n",
    "# print list\n",
    "print(sentence)"
   ]
  },
  {
   "cell_type": "code",
   "execution_count": 97,
   "metadata": {},
   "outputs": [
    {
     "name": "stdout",
     "output_type": "stream",
     "text": [
      "['no', 'yes']\n"
     ]
    }
   ],
   "source": [
    "# define dictionary\n",
    "happy = {\"no\": [0,1,2,3], \"yes\":[4,5,6,7]}\n",
    "\n",
    "# convert dictionary to list\n",
    "happy = list(happy)\n",
    "\n",
    "# print list\n",
    "print(happy)"
   ]
  },
  {
   "cell_type": "markdown",
   "metadata": {},
   "source": [
    "<div class=\"alert alert-block alert-info\">\n",
    "    <b>Exercise</b>: Change the type of the one of the 3 objects you created earlier. <b>object_1</b> should be changed to type <b>string</b>. Once you have done this, check that you were successful, and then change it back to type <b>int</b>.\n",
    "</div>"
   ]
  },
  {
   "cell_type": "code",
   "execution_count": 99,
   "metadata": {},
   "outputs": [],
   "source": [
    "object_1 = str(object_1)"
   ]
  },
  {
   "cell_type": "code",
   "execution_count": 100,
   "metadata": {},
   "outputs": [
    {
     "data": {
      "text/plain": [
       "str"
      ]
     },
     "execution_count": 100,
     "metadata": {},
     "output_type": "execute_result"
    }
   ],
   "source": [
    "type(object_1)"
   ]
  },
  {
   "cell_type": "code",
   "execution_count": 101,
   "metadata": {},
   "outputs": [],
   "source": [
    "object_1 = int(object_1)"
   ]
  },
  {
   "cell_type": "code",
   "execution_count": 102,
   "metadata": {},
   "outputs": [
    {
     "data": {
      "text/plain": [
       "int"
      ]
     },
     "execution_count": 102,
     "metadata": {},
     "output_type": "execute_result"
    }
   ],
   "source": [
    "type(object_1)"
   ]
  },
  {
   "cell_type": "markdown",
   "metadata": {},
   "source": [
    "## 1.8 Methods"
   ]
  },
  {
   "cell_type": "markdown",
   "metadata": {},
   "source": [
    "Besides functions, there are also methods in Python. Unlike functions, **methods** are associated with **certain objects**. The method is implicitly used for a certain object for which it is called. The method usually works on the data of an instance of an object, and returns a desired result accordingly (or not). \n",
    "\n",
    "The **syntax** of methods is the **name** of the **instance object** followed by the respective **method name** seperated by a **dot** `.` Hopefully, the concept of methods will become clear with the help of the upcoming examples. \n",
    "\n",
    "Let us try out some **simple methods**."
   ]
  },
  {
   "cell_type": "code",
   "execution_count": 107,
   "metadata": {},
   "outputs": [
    {
     "name": "stdout",
     "output_type": "stream",
     "text": [
      "I LOVE PYTHON!\n"
     ]
    }
   ],
   "source": [
    "# initialize string\n",
    "sentence = \"I love Python!\"\n",
    "\n",
    "# convert string in upper case\n",
    "sentence = sentence.upper()\n",
    "\n",
    "# print string\n",
    "print(sentence)"
   ]
  },
  {
   "cell_type": "code",
   "execution_count": 104,
   "metadata": {},
   "outputs": [
    {
     "name": "stdout",
     "output_type": "stream",
     "text": [
      "i love python!\n"
     ]
    }
   ],
   "source": [
    "# lowercase our string\n",
    "sentence = sentence.lower()\n",
    "\n",
    "#print string\n",
    "print(sentence)"
   ]
  },
  {
   "cell_type": "code",
   "execution_count": 109,
   "metadata": {},
   "outputs": [
    {
     "name": "stdout",
     "output_type": "stream",
     "text": [
      "I LOVE R!\n"
     ]
    }
   ],
   "source": [
    "# replace values by other values\n",
    "sentence = sentence.replace(\"PYTHON\", \"R\")\n",
    "\n",
    "# print string\n",
    "print(sentence)"
   ]
  },
  {
   "cell_type": "code",
   "execution_count": 110,
   "metadata": {},
   "outputs": [
    {
     "name": "stdout",
     "output_type": "stream",
     "text": [
      "[0, 1, 2, 3, 4, 5, 6]\n"
     ]
    }
   ],
   "source": [
    "# initialize list\n",
    "sample_list = [0,1,2,3,4,5]\n",
    "\n",
    "# add element to list\n",
    "sample_list.append(6)\n",
    "\n",
    "# print list\n",
    "print(sample_list)"
   ]
  },
  {
   "cell_type": "markdown",
   "metadata": {},
   "source": [
    "As we saw earlier, **lists** can also contain elements of **different type**. Our current list contains only elements of type **int**, but we can use our append method to append elements of type **boolean** or **string** as well."
   ]
  },
  {
   "cell_type": "code",
   "execution_count": 111,
   "metadata": {},
   "outputs": [
    {
     "name": "stdout",
     "output_type": "stream",
     "text": [
      "[0, 1, 2, 3, 4, 5, 6, True, 'Hello!']\n"
     ]
    }
   ],
   "source": [
    "# add element to list\n",
    "sample_list.append(True)\n",
    "\n",
    "# add element to list\n",
    "sample_list.append(\"Hello!\")\n",
    "\n",
    "\n",
    "# print list\n",
    "print(sample_list)"
   ]
  },
  {
   "cell_type": "markdown",
   "metadata": {},
   "source": [
    "Some methods only work for specific data types. For example, if we try to **append** an element to a **boolean** or **uppercase** a **dictionary**, we will get an error."
   ]
  },
  {
   "cell_type": "code",
   "execution_count": 112,
   "metadata": {},
   "outputs": [
    {
     "ename": "AttributeError",
     "evalue": "'bool' object has no attribute 'append'",
     "output_type": "error",
     "traceback": [
      "\u001b[1;31m---------------------------------------------------------------------------\u001b[0m",
      "\u001b[1;31mAttributeError\u001b[0m                            Traceback (most recent call last)",
      "\u001b[1;32m<ipython-input-112-ba74f26fcfb6>\u001b[0m in \u001b[0;36m<module>\u001b[1;34m\u001b[0m\n\u001b[0;32m      3\u001b[0m \u001b[1;33m\u001b[0m\u001b[0m\n\u001b[0;32m      4\u001b[0m \u001b[1;31m# try to append\u001b[0m\u001b[1;33m\u001b[0m\u001b[1;33m\u001b[0m\u001b[1;33m\u001b[0m\u001b[0m\n\u001b[1;32m----> 5\u001b[1;33m \u001b[0mdifficult\u001b[0m\u001b[1;33m.\u001b[0m\u001b[0mappend\u001b[0m\u001b[1;33m(\u001b[0m\u001b[1;36m8\u001b[0m\u001b[1;33m)\u001b[0m\u001b[1;33m\u001b[0m\u001b[1;33m\u001b[0m\u001b[0m\n\u001b[0m",
      "\u001b[1;31mAttributeError\u001b[0m: 'bool' object has no attribute 'append'"
     ]
    }
   ],
   "source": [
    "# create a boolean\n",
    "difficult = False\n",
    "\n",
    "# try to append\n",
    "difficult.append(8)"
   ]
  },
  {
   "cell_type": "code",
   "execution_count": 113,
   "metadata": {},
   "outputs": [
    {
     "ename": "AttributeError",
     "evalue": "'dict' object has no attribute 'upper'",
     "output_type": "error",
     "traceback": [
      "\u001b[1;31m---------------------------------------------------------------------------\u001b[0m",
      "\u001b[1;31mAttributeError\u001b[0m                            Traceback (most recent call last)",
      "\u001b[1;32m<ipython-input-113-64533865541b>\u001b[0m in \u001b[0;36m<module>\u001b[1;34m\u001b[0m\n\u001b[0;32m      3\u001b[0m \u001b[1;33m\u001b[0m\u001b[0m\n\u001b[0;32m      4\u001b[0m \u001b[1;31m# try to upper\u001b[0m\u001b[1;33m\u001b[0m\u001b[1;33m\u001b[0m\u001b[1;33m\u001b[0m\u001b[0m\n\u001b[1;32m----> 5\u001b[1;33m \u001b[0msample_dict\u001b[0m\u001b[1;33m.\u001b[0m\u001b[0mupper\u001b[0m\u001b[1;33m(\u001b[0m\u001b[1;33m)\u001b[0m\u001b[1;33m\u001b[0m\u001b[1;33m\u001b[0m\u001b[0m\n\u001b[0m",
      "\u001b[1;31mAttributeError\u001b[0m: 'dict' object has no attribute 'upper'"
     ]
    }
   ],
   "source": [
    "# create a dictionary\n",
    "sample_dict = {\"no\": [0,1], \"yes\": [2,3]}\n",
    "\n",
    "# try to upper\n",
    "sample_dict.upper()"
   ]
  },
  {
   "cell_type": "code",
   "execution_count": 114,
   "metadata": {},
   "outputs": [
    {
     "name": "stdout",
     "output_type": "stream",
     "text": [
      "{5, 6, 7, 8, 9, 10}\n"
     ]
    }
   ],
   "source": [
    "# define sets\n",
    "points = {0,1,2,3,4,5,6,7,8,9,10}\n",
    "other_points = {0,1,2,3,4}\n",
    "\n",
    "# get difference of sets\n",
    "yes = points.difference(other_points)\n",
    "\n",
    "# print set\n",
    "print(yes)"
   ]
  },
  {
   "cell_type": "markdown",
   "metadata": {},
   "source": [
    "To get a list **all attributes** and **methods** a variable has, we use the function `dir()`.\n",
    "\n",
    "Let us see what other **methods** a **list** has."
   ]
  },
  {
   "cell_type": "code",
   "execution_count": 115,
   "metadata": {},
   "outputs": [
    {
     "name": "stdout",
     "output_type": "stream",
     "text": [
      "['__add__', '__class__', '__contains__', '__delattr__', '__delitem__', '__dir__', '__doc__', '__eq__', '__format__', '__ge__', '__getattribute__', '__getitem__', '__gt__', '__hash__', '__iadd__', '__imul__', '__init__', '__init_subclass__', '__iter__', '__le__', '__len__', '__lt__', '__mul__', '__ne__', '__new__', '__reduce__', '__reduce_ex__', '__repr__', '__reversed__', '__rmul__', '__setattr__', '__setitem__', '__sizeof__', '__str__', '__subclasshook__', 'append', 'clear', 'copy', 'count', 'extend', 'index', 'insert', 'pop', 'remove', 'reverse', 'sort']\n"
     ]
    }
   ],
   "source": [
    "# create a list\n",
    "sample_list = [0,1,2]\n",
    "\n",
    "# print methods\n",
    "print(dir(sample_list))"
   ]
  },
  {
   "cell_type": "markdown",
   "metadata": {},
   "source": [
    "Original Source: \n",
    "Python Block Course; Prof. Dr. Karsten Donnay, Stefan Scholz; Winter Term 2019 / 2020"
   ]
  }
 ],
 "metadata": {
  "kernelspec": {
   "display_name": "Python 3",
   "language": "python",
   "name": "python3"
  },
  "language_info": {
   "codemirror_mode": {
    "name": "ipython",
    "version": 3
   },
   "file_extension": ".py",
   "mimetype": "text/x-python",
   "name": "python",
   "nbconvert_exporter": "python",
   "pygments_lexer": "ipython3",
   "version": "3.8.3"
  }
 },
 "nbformat": 4,
 "nbformat_minor": 4
}
