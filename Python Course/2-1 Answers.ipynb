{
 "cells": [
  {
   "cell_type": "markdown",
   "metadata": {},
   "source": [
    "# Einführung in das Programmieren mit Python\n",
    "# Session 2-1: Conditional and control flow statements"
   ]
  },
  {
   "cell_type": "markdown",
   "metadata": {},
   "source": [
    "Jack Krüger, Sebastian Staab\n",
    "\n",
    "WS 20/21\n",
    "\n",
    "In this session we will learn how to use **Conditional statements** and **Control Flow statements**. We will also briefly touch on typical programming style."
   ]
  },
  {
   "cell_type": "markdown",
   "metadata": {},
   "source": [
    "## 2.1 Conditional Statement"
   ]
  },
  {
   "cell_type": "markdown",
   "metadata": {},
   "source": [
    "So far you know the basics of individual instructions and that a program is just a series of instructions. But the real strength of programming is not just executing one instruction after another. Based on how the **expressions** evaluate, the program can decide to **skip instructions**, **repeat** them, or **choose** one of several instructions to run. In fact, you almost never want your programs to start from the first line of code and simply execute every line, straight to the end. **Control flow statements** can decide which Python instructions to execute under which **conditions**.\n",
    "\n",
    "For this, we have to understand the different types of operators in the first place. "
   ]
  },
  {
   "cell_type": "markdown",
   "metadata": {},
   "source": [
    "### Comparison Operator"
   ]
  },
  {
   "cell_type": "markdown",
   "metadata": {},
   "source": [
    "**Comparison operators** are used to **compare two values** and evaluate down to a single `Boolean`. They evaluate either as `True` or `False`. In Python, you can can use the following comparison operators.\n",
    "\n",
    "| Operator | Description  |\n",
    "| -------- | ------- |\n",
    "| `==` | equal |\n",
    "| `!=` | not equal |\n",
    "| `>` | greater than |\n",
    "| `<` | less than |\n",
    "| `>=` | greater than or equal to |\n",
    "| `<=` | less than or equal to |\n",
    "\n",
    "Let us try **comparison operators** out with a **little example**."
   ]
  },
  {
   "cell_type": "code",
   "execution_count": 4,
   "metadata": {},
   "outputs": [
    {
     "data": {
      "text/plain": [
       "True"
      ]
     },
     "execution_count": 4,
     "metadata": {},
     "output_type": "execute_result"
    }
   ],
   "source": [
    "age = 17\n",
    "age == 17"
   ]
  },
  {
   "cell_type": "code",
   "execution_count": 3,
   "metadata": {},
   "outputs": [
    {
     "data": {
      "text/plain": [
       "False"
      ]
     },
     "execution_count": 3,
     "metadata": {},
     "output_type": "execute_result"
    }
   ],
   "source": [
    "age == 18"
   ]
  },
  {
   "cell_type": "code",
   "execution_count": 87,
   "metadata": {},
   "outputs": [
    {
     "name": "stdout",
     "output_type": "stream",
     "text": [
      "I am allowed to get beer: True\n",
      "I am allowed to get spirits: False\n"
     ]
    }
   ],
   "source": [
    "# define age\n",
    "age = 17\n",
    "\n",
    "# print first comparison\n",
    "print(\"I am allowed to get beer:\", age >= 16)\n",
    "\n",
    "# print second comparison\n",
    "print(\"I am allowed to get spirits:\", age >= 18)"
   ]
  },
  {
   "cell_type": "markdown",
   "metadata": {},
   "source": [
    "### Logical Operator"
   ]
  },
  {
   "cell_type": "markdown",
   "metadata": {},
   "source": [
    "**Logical operators** are used to **compare multiple** `Boolean`. Like comparison operators, they evaluate these expressions down to a `Boolean`. Since the comparison operators evaluate to `Boolean`, you can use them in **expressions** with the **logical operators**. Note that these operators are often grouped in **smaller statements** with **round brackets** `(` `)`. In Python, you can use the following logical oporators.\n",
    "\n",
    "| Operator | Description  |\n",
    "| -------- | ------- |\n",
    "| `and` | returns `True` if both statements are `True` |\n",
    "| `or` | returns `True` if at least one of the statements is `True` |\n",
    "| `not` | returns `True` if result is `False` and vice versa |\n",
    "\n",
    "Let us put **logical operators** in our **previous example**. "
   ]
  },
  {
   "cell_type": "code",
   "execution_count": 7,
   "metadata": {},
   "outputs": [
    {
     "name": "stdout",
     "output_type": "stream",
     "text": [
      "I am allowed to get beer and spirits: False\n",
      "I am not allowed to get both beer and spirits: True\n",
      "I am allowed to get either beer or spirits: True\n"
     ]
    }
   ],
   "source": [
    "# define age\n",
    "age = 17\n",
    "\n",
    "# print first comparison\n",
    "print(\"I am allowed to get beer and spirits:\", age >= 16 and age >= 18)\n",
    "\n",
    "# print second comparison\n",
    "print(\"I am not allowed to get both beer and spirits:\", not (age >= 16 and age >= 18))\n",
    "\n",
    "# print third comparison\n",
    "print(\"I am allowed to get either beer or spirits:\", age >= 16 or age >= 18)"
   ]
  },
  {
   "cell_type": "markdown",
   "metadata": {},
   "source": [
    "<div class=\"alert alert-block alert-info\">\n",
    "    <b>Exercise</b>: Create a new object, named <b>object_1</b>, of type <b>int</b>. Use comparison operators to check the type of your new object.\n",
    "</div>"
   ]
  },
  {
   "cell_type": "code",
   "execution_count": null,
   "metadata": {},
   "outputs": [],
   "source": [
    "object_1 = 7\n",
    "type(object_1) == int"
   ]
  },
  {
   "cell_type": "markdown",
   "metadata": {},
   "source": [
    "## 2.2 Control Flow Statements"
   ]
  },
  {
   "cell_type": "markdown",
   "metadata": {},
   "source": [
    "With the help of **conditional statements**, we can decide which parts of our code are **skipped**, **repeated** or **select** which part of code is executed. To do this, we write **control flow statements**. We will now discuss each of these statements one after the other. "
   ]
  },
  {
   "cell_type": "markdown",
   "metadata": {},
   "source": [
    "### If Statement"
   ]
  },
  {
   "cell_type": "markdown",
   "metadata": {},
   "source": [
    "The most common type of control flow statements is the `if` **statement**. An `if` statement's **clause** will execute only if the **statement's condition** is `True`. The clause is **skipped** if the condition is `False`. The `else` clause is executed only when the `if` statement's condition is `False`. While only one of the `if` or `else` clauses will execute, you may have a case where you want **one of many** possible clauses to execute. The `elif` **statement** is **optional** and is an *else if* statement that always follows an `if` or another `elif` statement. The `if` and `elif` statements' condition are gone through **from top to bottom**, and once a condition is `True`, the respective clause will be executed and the **remaining statements** will be **skipped**. \n",
    "\n",
    "The **syntax** of an `if` **statement** looks as follows.\n",
    "\n",
    "```python\n",
    "if condition1:\n",
    "    clause(s)\n",
    "elif condition2:\n",
    "    clause(s)\n",
    "elif condition3:\n",
    "    clause(s)\n",
    "...\n",
    "else:\n",
    "    clause(s)\n",
    "```\n",
    "\n",
    "Let us make an **example** where we **check** our **statements** before we print the results. "
   ]
  },
  {
   "cell_type": "code",
   "execution_count": 92,
   "metadata": {},
   "outputs": [
    {
     "name": "stdout",
     "output_type": "stream",
     "text": [
      "I am allowed to get water!\n"
     ]
    }
   ],
   "source": [
    "# define age\n",
    "age = 15\n",
    "\n",
    "# check conditions and print results\n",
    "if age < 16:\n",
    "    print(\"I am allowed to get water!\")\n",
    "elif age < 18: \n",
    "    print(\"I am allowed to get water and beer!\")\n",
    "else:\n",
    "    print(\"I am allowed to get water, beer and spirits!\")"
   ]
  },
  {
   "cell_type": "markdown",
   "metadata": {},
   "source": [
    "### For Loop"
   ]
  },
  {
   "cell_type": "markdown",
   "metadata": {},
   "source": [
    "The `for` **statement** supports **repeated execution** of a block of code. We also speak of a `for` **loop**. The number of repetitions is specified by the for statement, more precisely by an **iterable object**, e.g. `List`.  We will also discuss shortly what a `break` and `continue` statement is.\n",
    "\n",
    "The **syntax** of a `for` **loop** looks as follows.\n",
    "\n",
    "```python\n",
    "for target in iterable:\n",
    "    clause(s)\n",
    "```\n",
    "\n",
    "Let us make an **example** where we **loop** over **many ages** and print their results. "
   ]
  },
  {
   "cell_type": "code",
   "execution_count": 93,
   "metadata": {},
   "outputs": [
    {
     "name": "stdout",
     "output_type": "stream",
     "text": [
      "[0, 1, 2, 3, 4, 5, 6, 7, 8, 9, 10, 11, 12, 13, 14, 15, 16, 17, 18]\n",
      "I am 0 years old and allowed to get water!\n",
      "I am 1 years old and allowed to get water!\n",
      "I am 2 years old and allowed to get water!\n",
      "I am 3 years old and allowed to get water!\n",
      "I am 4 years old and allowed to get water!\n",
      "I am 5 years old and allowed to get water!\n",
      "I am 6 years old and allowed to get water!\n",
      "I am 7 years old and allowed to get water!\n",
      "I am 8 years old and allowed to get water!\n",
      "I am 9 years old and allowed to get water!\n",
      "I am 10 years old and allowed to get water!\n",
      "I am 11 years old and allowed to get water!\n",
      "I am 12 years old and allowed to get water!\n",
      "I am 13 years old and allowed to get water!\n",
      "I am 14 years old and allowed to get water!\n",
      "I am 15 years old and allowed to get water!\n",
      "I am 16 years old and allowed to get water and beer!\n",
      "I am 17 years old and allowed to get water and beer!\n",
      "I am 18 years old and allowed to get water, beer and spirits!\n"
     ]
    }
   ],
   "source": [
    "# define ages\n",
    "ages = range(0, 19)\n",
    "\n",
    "# print ages\n",
    "print(list(ages))\n",
    "\n",
    "# for loop over ages\n",
    "for age in ages:\n",
    "    # check conditions and print results\n",
    "    if age < 16:\n",
    "        print(\"I am {} years old and allowed to get water!\".format(age))\n",
    "    elif age < 18: \n",
    "        print(\"I am {} years old and allowed to get water and beer!\".format(age))\n",
    "    else:\n",
    "        print(\"I am {} years old and allowed to get water, beer and spirits!\".format(age))"
   ]
  },
  {
   "cell_type": "markdown",
   "metadata": {},
   "source": [
    "<div class=\"alert alert-block alert-info\">\n",
    "    <b>Exercise</b>: Use your knowledge of for-loops and if-else statements to create two seperate lists - one containing all the even numbers less than 50, and one containing all the odd numbers less than 50. \n",
    "</div>"
   ]
  },
  {
   "cell_type": "code",
   "execution_count": 4,
   "metadata": {},
   "outputs": [
    {
     "name": "stdout",
     "output_type": "stream",
     "text": [
      "Odd numbers: [1, 3, 5, 7, 9, 11, 13, 15, 17, 19, 21, 23, 25, 27, 29, 31, 33, 35, 37, 39, 41, 43, 45, 47, 49]\n",
      "Even numbers: [0, 2, 4, 6, 8, 10, 12, 14, 16, 18, 20, 22, 24, 26, 28, 30, 32, 34, 36, 38, 40, 42, 44, 46, 48]\n"
     ]
    }
   ],
   "source": [
    "odd = []\n",
    "even = []\n",
    "for i in range(0,50):\n",
    "    if i%2 == 0:\n",
    "        even.append(i)\n",
    "    elif i%2 == 1:\n",
    "        odd.append(i)\n",
    "print(\"Odd numbers:\", odd)\n",
    "print(\"Even numbers:\", even)"
   ]
  },
  {
   "cell_type": "markdown",
   "metadata": {},
   "source": [
    "<div class=\"alert alert-block alert-info\">\n",
    "    <b>Exercise</b>: Use your knowledge of for-loops and the append method to create a list containing the first 10 numbers of the Fibonacci sequence. The Fibonacci sequence starts with 0 and 1, and then each subsequent number is the sum of the previous two numbers in the list (0,1,1,2,3,5,8,13,21,34). \n",
    "</div>"
   ]
  },
  {
   "cell_type": "code",
   "execution_count": 1,
   "metadata": {},
   "outputs": [
    {
     "name": "stdout",
     "output_type": "stream",
     "text": [
      "[0, 1, 1, 2, 3, 5, 8, 13, 21, 34]\n"
     ]
    }
   ],
   "source": [
    "fibonaci = [0,1]\n",
    "for i in range(2,10):\n",
    "    fibonaci.append(fibonaci[i-2]+fibonaci[i-1])\n",
    "print(fibonaci)"
   ]
  },
  {
   "cell_type": "markdown",
   "metadata": {},
   "source": [
    "### Break Statement"
   ]
  },
  {
   "cell_type": "markdown",
   "metadata": {},
   "source": [
    "If inside a `for` loop the execution reaches a `break` **statement**, it **immediately exits** the `for` loop's clause. The `break` statement is only allowed inside a loop body. It should also be noted that when you have multiple nested `for` loops, only the **inner-most nested loop** will be exited. A common reason to use a `break` statement is when a certain point has already been reached before the `for` loop finished. \n",
    "\n",
    "Let us make an **example** where we **exit** the **previous loop**. "
   ]
  },
  {
   "cell_type": "code",
   "execution_count": 96,
   "metadata": {},
   "outputs": [
    {
     "name": "stdout",
     "output_type": "stream",
     "text": [
      "[0, 1, 2, 3, 4, 5, 6, 7, 8, 9, 10, 11, 12, 13, 14, 15, 16, 17, 18, 19]\n",
      "I am 0 years old and allowed to get water!\n",
      "I am 1 years old and allowed to get water!\n",
      "I am 2 years old and allowed to get water!\n",
      "I am 3 years old and allowed to get water!\n",
      "I am 4 years old and allowed to get water!\n",
      "I am 5 years old and allowed to get water!\n",
      "I am 6 years old and allowed to get water!\n",
      "I am 7 years old and allowed to get water!\n",
      "I am 8 years old and allowed to get water!\n",
      "I am 9 years old and allowed to get water!\n",
      "I am 10 years old and allowed to get water!\n",
      "I am 11 years old and allowed to get water!\n",
      "I am 12 years old and allowed to get water!\n",
      "I am 13 years old and allowed to get water!\n",
      "I am 14 years old and allowed to get water!\n",
      "I am 15 years old and allowed to get water!\n",
      "I am 16 years old and allowed to get water and beer!\n"
     ]
    }
   ],
   "source": [
    "# define ages\n",
    "ages = range(0, 20)\n",
    "\n",
    "# print ages\n",
    "print(list(ages))\n",
    "\n",
    "# for loop over ages\n",
    "for age in ages:\n",
    "    # check conditions and print results\n",
    "    if age < 16:\n",
    "        print(\"I am {} years old and allowed to get water!\".format(age))\n",
    "    elif age < 18: \n",
    "        print(\"I am {} years old and allowed to get water and beer!\".format(age))\n",
    "        break\n",
    "    else:\n",
    "        print(\"I am {} years old and allowed to get water, beer and spirits!\".format(age))"
   ]
  },
  {
   "cell_type": "markdown",
   "metadata": {},
   "source": [
    "### Continue Statement"
   ]
  },
  {
   "cell_type": "markdown",
   "metadata": {},
   "source": [
    "If inside a `for` loop the execution reaches a `continue` **statement**, it **immediately exits** the **current iteration** of the loop body and it **continues** with the **next iterations** of the loop. The `continue` statement is only allowed inside a loop body. It should also be noted that when you have multiple nested `for` loops, only the **inner-most nested loop** will be continued. A common reason to use a `continue` statement is when a certain point has been reached when the result already cannot be reached inside this interation that the rest of it can be skipped.\n",
    "\n",
    "Let us make an **example** where we **skip** some **iterations**. "
   ]
  },
  {
   "cell_type": "code",
   "execution_count": 98,
   "metadata": {},
   "outputs": [
    {
     "name": "stdout",
     "output_type": "stream",
     "text": [
      "[0, 1, 2, 3, 4, 5, 6, 7, 8, 9, 10, 11, 12, 13, 14, 15, 16, 17, 18, 19, 20, 21]\n",
      "I am 16 years old and allowed to get water and beer!\n",
      "I am 17 years old and allowed to get water and beer!\n",
      "I am 18 years old and allowed to get water, beer and spirits!\n",
      "I am 19 years old and allowed to get water, beer and spirits!\n",
      "I am 20 years old and allowed to get water, beer and spirits!\n",
      "I am 21 years old and allowed to get water, beer and spirits!\n"
     ]
    }
   ],
   "source": [
    "# define ages\n",
    "ages = range(0, 22)\n",
    "\n",
    "# print ages\n",
    "print(list(ages))\n",
    "\n",
    "# for loop over ages\n",
    "for age in ages:\n",
    "    # check conditions and print results\n",
    "    if age < 16:\n",
    "        continue\n",
    "        print(\"I am {} years old and allowed to get water!\".format(age))\n",
    "    elif age < 18: \n",
    "        print(\"I am {} years old and allowed to get water and beer!\".format(age))\n",
    "    else:\n",
    "        print(\"I am {} years old and allowed to get water, beer and spirits!\".format(age))"
   ]
  },
  {
   "cell_type": "markdown",
   "metadata": {},
   "source": [
    "### While Loop"
   ]
  },
  {
   "cell_type": "markdown",
   "metadata": {},
   "source": [
    "In the `while` **statement**, the condition is always **checked** at the **start of each iteration**. That is, each time the loop is executed. We also speak of a `while` loop. If the condition is `True`, then the clause is **executed**, and afterward, the condition is checked again. The first time the condition is found to be `False`, the `while` clause is **skipped**. If the execution reaches a `break` statement, it **immediately exits** the `while` loop's clause. When the program execution reaches a `continue` statement, the program execution immediately **jumps back** to the start of the loop and reevaluates the loop's condition. This is also what happens when the execution reaches the end of the loop.\n",
    "\n",
    "The **syntax** of a `while` **loop** looks as follows.\n",
    "\n",
    "```python\n",
    "while condition:\n",
    "    clause(s)\n",
    "```\n",
    "\n",
    "Let us make an **example** where we **loop** over **many ages** and print their results. "
   ]
  },
  {
   "cell_type": "code",
   "execution_count": 95,
   "metadata": {},
   "outputs": [
    {
     "name": "stdout",
     "output_type": "stream",
     "text": [
      "I am 0 years old and allowed to get water!\n",
      "I am 1 years old and allowed to get water!\n",
      "I am 2 years old and allowed to get water!\n",
      "I am 3 years old and allowed to get water!\n",
      "I am 4 years old and allowed to get water!\n",
      "I am 5 years old and allowed to get water!\n",
      "I am 6 years old and allowed to get water!\n",
      "I am 7 years old and allowed to get water!\n",
      "I am 8 years old and allowed to get water!\n",
      "I am 9 years old and allowed to get water!\n",
      "I am 10 years old and allowed to get water!\n",
      "I am 11 years old and allowed to get water!\n",
      "I am 12 years old and allowed to get water!\n",
      "I am 13 years old and allowed to get water!\n",
      "I am 14 years old and allowed to get water!\n",
      "I am 15 years old and allowed to get water!\n",
      "I am 16 years old and allowed to get water and beer!\n",
      "I am 17 years old and allowed to get water and beer!\n",
      "I am 18 years old and allowed to get water, beer and spirits!\n"
     ]
    }
   ],
   "source": [
    "# define ages\n",
    "age = 0\n",
    "\n",
    "# for loop over ages\n",
    "while age < 19:\n",
    "    # check conditions and print results\n",
    "    if age < 16:\n",
    "        print(\"I am {} years old and allowed to get water!\".format(age))\n",
    "    elif age < 18: \n",
    "        print(\"I am {} years old and allowed to get water and beer!\".format(age))\n",
    "    else:\n",
    "        print(\"I am {} years old and allowed to get water, beer and spirits!\".format(age))\n",
    "    # increment age\n",
    "    age += 1"
   ]
  },
  {
   "cell_type": "markdown",
   "metadata": {},
   "source": [
    "<div class=\"alert alert-block alert-info\">\n",
    "    <b>Exercise</b>: Suppose Hans goes out for a pub crawl tonight. He is 18 years old, drinks only Tequilas and has 35 Euros in his pocket. If he joins group 1 first, then he goes into the Klimperkasten and wants to drink at least 5 tequilas there before he moves on to the Steigenberger. But if he joints group 2 first, then he goes into the Steigenberger and wants to drink at least 5 tequilas there before he moves on to the Klimperkasten. A Tequila costs 4 € in the Klimperkasten and 10€ in the Steigenberger. Define budget, prices and the first group as variables. Prompt where Hans goes, what he drinks and how much money he has left. How does Hans' evening go?\n",
    "</div>"
   ]
  },
  {
   "cell_type": "code",
   "execution_count": 9,
   "metadata": {},
   "outputs": [],
   "source": [
    "budget = 35\n",
    "prices = {\"Klimperkasten\": 4, \"Steigenberger\": 10}\n",
    "teq = 0\n",
    "group = 2\n",
    "\n",
    "# While Hans has money\n",
    "while budget > 0:\n",
    "    # if he's in group 1\n",
    "    if group == 1:\n",
    "        if budget - prices[\"Klimperkasten\"] < 0:\n",
    "            print(\"Hans can't afford another drink\")\n",
    "            break\n",
    "        else:\n",
    "            teq += 1 #drink tequila\n",
    "            budget -= prices[\"Klimperkasten\"] #pay money\n",
    "        \n",
    "            #if he hits 5 tequila, break\n",
    "            if teq == 5: \n",
    "                print(\"Hans is finished at Klimperkasten, his remaining budget for Steigenberger is: \", budget)\n",
    "                break\n",
    "            \n",
    "    elif group == 2:\n",
    "        if budget - prices[\"Steigenberger\"] < 0:\n",
    "            print(\"Hans can't afford another drink\")\n",
    "            break\n",
    "        else:\n",
    "            teq += 1\n",
    "            budget -= prices[\"Steigenberger\"]\n",
    "        \n",
    "            if teq == 5:\n",
    "                print(\"Hans is finished at Steigenberger, his remaining budget for Klimperkasten is: \", budget)\n",
    "                break\n",
    "    else:\n",
    "        print(\"Something went wrong, group doesn't exist\")"
   ]
  },
  {
   "cell_type": "code",
   "execution_count": 6,
   "metadata": {},
   "outputs": [
    {
     "name": "stdout",
     "output_type": "stream",
     "text": [
      "5\n",
      "15\n"
     ]
    }
   ],
   "source": [
    "print(teq)\n",
    "print(budget)"
   ]
  },
  {
   "cell_type": "markdown",
   "metadata": {},
   "source": [
    "## 2.3 Style Guide"
   ]
  },
  {
   "cell_type": "markdown",
   "metadata": {},
   "source": [
    "Maybe you have already noticed that **code** can become **quickly** **complicated**, **confusing** and **unclear**. Especially if you look at your code after a long time or show it to somebody else, it will quickly become a serious problem. For that reason, there are various **style guides** which use quite simple rules to ensure your code is understandable, concise and clear. \n",
    "\n",
    "They deal with **following questions** for example:\n",
    "\n",
    "- How should I make imports?\n",
    "- How should I use line breaks?\n",
    "- How should I indent code?\n",
    "- How should I comment code?\n",
    "- How should I name variables?\n",
    "- How should I handle exceptions?\n",
    "\n",
    "We recommend you to have a look into the [Google Python Style Guide](https://github.com/google/styleguide/blob/gh-pages/pyguide.md)."
   ]
  },
  {
   "cell_type": "code",
   "execution_count": null,
   "metadata": {},
   "outputs": [],
   "source": []
  }
 ],
 "metadata": {
  "kernelspec": {
   "display_name": "Python 3",
   "language": "python",
   "name": "python3"
  },
  "language_info": {
   "codemirror_mode": {
    "name": "ipython",
    "version": 3
   },
   "file_extension": ".py",
   "mimetype": "text/x-python",
   "name": "python",
   "nbconvert_exporter": "python",
   "pygments_lexer": "ipython3",
   "version": "3.8.3"
  }
 },
 "nbformat": 4,
 "nbformat_minor": 4
}
