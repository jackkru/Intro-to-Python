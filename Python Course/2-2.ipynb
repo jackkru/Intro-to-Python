{
 "cells": [
  {
   "cell_type": "markdown",
   "metadata": {},
   "source": [
    "# Einführung in das Programmieren mit Python\n",
    "# Session 2-2: Functions"
   ]
  },
  {
   "cell_type": "markdown",
   "metadata": {},
   "source": [
    "Jack Krüger, Sebastian Staab  \n",
    "WS 20/21\n",
    "\n",
    "In this second session we will learn for (simple) applications how to write our own Python code. At the same time we also learn how to write our **own functions** and how we make the most out of them. "
   ]
  },
  {
   "cell_type": "markdown",
   "metadata": {},
   "source": [
    "## 2.4 Recap: Built-In Functions"
   ]
  },
  {
   "cell_type": "markdown",
   "metadata": {},
   "source": [
    "A convenient way to get things done in Python is to use functions. **Functions** are indicated by **round brackets** which are appended directly after the **name** of the **function**. **Inside** the **brackets** the **input** is handed over to the function.\n",
    "\n",
    "Yesterday we used the functions `print()`, `help()`, `len()`, `sum()`, `type()` among others. When we used these functions, they had in common that they always came from Python's standard library, and we used only one input parameter most of the times. \n",
    "\n",
    "Let us call a simple built-in function."
   ]
  },
  {
   "cell_type": "code",
   "execution_count": 1,
   "metadata": {},
   "outputs": [],
   "source": [
    "# define tuple\n",
    "points = (0, 1, 2, 3, 4, 5, 6, 7, 8, 9, 10)\n",
    "\n",
    "# print length\n"
   ]
  },
  {
   "cell_type": "markdown",
   "metadata": {},
   "source": [
    "In the following section we will see that we can write our own functions, and that functions can take more than one input parameter in general. "
   ]
  },
  {
   "cell_type": "markdown",
   "metadata": {},
   "source": [
    "## 2.5 User-Defined Functions"
   ]
  },
  {
   "cell_type": "markdown",
   "metadata": {},
   "source": [
    "**User-defined functions** have the goal to **recycle** code blocks, such that the same code block can be executed **several times**. With functions, the code can be made more **understandable** and **modular**. In addition, functions offer a certain **flexibility** through their input parameters, so that the code can be used for the same purpose in the broadest sense. \n",
    "\n",
    "To declare your own function in Python, you must first write the **keyword** `def`, then the **name** of the function itself, followed by the **parameteres** in **round brackets** `(` `)`, and end the declaration with a **colon** `:`. This is followed by the **code** to be executed in the function which is **indented**. A the end of the code there can be a `return` **statement**, which returns one or more values, so that they can be used **outside** the function. \n",
    "\n",
    "Let us look at the **syntax** of a function.\n",
    "\n",
    "```python\n",
    "def function_name(argument_1, argument_2):\n",
    "    {this is the code in the function}\n",
    "    {more code doing something with the arguments}\n",
    "    {more code}\n",
    "    return {value to return to the main program}\n",
    "```\n",
    "\n",
    "Suppose we have a list of student we want to **welcome** personally. We could write the greeting for each student individually, or better **automate** it with a **function**. "
   ]
  },
  {
   "cell_type": "code",
   "execution_count": 2,
   "metadata": {},
   "outputs": [
    {
     "name": "stdout",
     "output_type": "stream",
     "text": [
      "Hello Hans!\n",
      "Hello Adam!\n",
      "Hello Christine!\n"
     ]
    }
   ],
   "source": [
    "print(\"Hello Hans!\")\n",
    "print(\"Hello Adam!\")\n",
    "print(\"Hello Christine!\")"
   ]
  },
  {
   "cell_type": "code",
   "execution_count": 3,
   "metadata": {},
   "outputs": [],
   "source": [
    "# define function\n",
    "\n",
    "\n",
    "# define list of students\n",
    "students = [\"Hans\", \"Adam\", \"Christine\"]\n",
    "\n",
    "# loop over students\n"
   ]
  },
  {
   "cell_type": "markdown",
   "metadata": {},
   "source": [
    "In the function above, the function has a **required parameter**. If we would call the function without a name, the function would abort. However, if we set a **default parameter**, then we take the default in case no other parameter is passed. \n",
    "\n",
    "Let us set a **default parameter**. "
   ]
  },
  {
   "cell_type": "code",
   "execution_count": 4,
   "metadata": {},
   "outputs": [],
   "source": [
    "# define function\n",
    "\n",
    "    \n",
    "# call function without name\n"
   ]
  },
  {
   "cell_type": "code",
   "execution_count": 5,
   "metadata": {},
   "outputs": [],
   "source": [
    "# call function with name\n"
   ]
  },
  {
   "cell_type": "markdown",
   "metadata": {},
   "source": [
    "If your functions get more complicated and have **several input parameters**, it is a good idea to **explicitly mention** the **parameter names** in the **function call**. If no parameter names are given, then the values passed must be in the order of the parameters. If parameter names are given, the values can be written in a mixed order too. \n",
    "\n",
    "Let us write a function with **two inputs** and pass its **parameters explicitly**. "
   ]
  },
  {
   "cell_type": "code",
   "execution_count": 6,
   "metadata": {},
   "outputs": [],
   "source": [
    "# define function including name and location\n",
    "\n",
    "    \n",
    "# call function with explicit parameters\n"
   ]
  },
  {
   "cell_type": "markdown",
   "metadata": {},
   "source": [
    "If you are not sure how many input parameters you want to pass, you can write the function in such a way that it takes **any number of parameters**. All what you have to do is write an **asteriks** `*` before a variable. This variable will capture all additional parameters and store them in a `Tuple`. Basically you can name this variable as you like, but by convention it is named `*args`. \n",
    "\n",
    "Let us write a function in which we greet an unknown number of students. "
   ]
  },
  {
   "cell_type": "code",
   "execution_count": 4,
   "metadata": {},
   "outputs": [
    {
     "ename": "TypeError",
     "evalue": "hello() got an unexpected keyword argument 'names'",
     "output_type": "error",
     "traceback": [
      "\u001b[1;31m---------------------------------------------------------------------------\u001b[0m",
      "\u001b[1;31mTypeError\u001b[0m                                 Traceback (most recent call last)",
      "\u001b[1;32m<ipython-input-4-33d4e9efb3a3>\u001b[0m in \u001b[0;36m<module>\u001b[1;34m\u001b[0m\n\u001b[0;32m      4\u001b[0m \u001b[1;33m\u001b[0m\u001b[0m\n\u001b[0;32m      5\u001b[0m \u001b[1;31m# call function with unknown number parameters # order matters!!\u001b[0m\u001b[1;33m\u001b[0m\u001b[1;33m\u001b[0m\u001b[1;33m\u001b[0m\u001b[0m\n\u001b[1;32m----> 6\u001b[1;33m \u001b[0mhello\u001b[0m\u001b[1;33m(\u001b[0m\u001b[0mlocation\u001b[0m \u001b[1;33m=\u001b[0m \u001b[1;34m\"Konstanz\"\u001b[0m\u001b[1;33m,\u001b[0m \u001b[0mnames\u001b[0m \u001b[1;33m=\u001b[0m \u001b[1;33m(\u001b[0m\u001b[1;34m\"Lisa\"\u001b[0m\u001b[1;33m,\u001b[0m \u001b[1;34m\"Litzelstetten\"\u001b[0m\u001b[1;33m)\u001b[0m\u001b[1;33m)\u001b[0m\u001b[1;33m\u001b[0m\u001b[1;33m\u001b[0m\u001b[0m\n\u001b[0m",
      "\u001b[1;31mTypeError\u001b[0m: hello() got an unexpected keyword argument 'names'"
     ]
    }
   ],
   "source": [
    "# define function with multiple names and one location\n",
    "def hello(location, *names):\n",
    "    print(\"Hello {} in {}!\".format(\" and \".join(names), location))\n",
    "    \n",
    "# call function with unknown number parameters # order matters!!\n"
   ]
  },
  {
   "cell_type": "code",
   "execution_count": null,
   "metadata": {},
   "outputs": [],
   "source": []
  },
  {
   "cell_type": "code",
   "execution_count": null,
   "metadata": {},
   "outputs": [],
   "source": []
  },
  {
   "cell_type": "markdown",
   "metadata": {},
   "source": [
    "Besides the **keyword** `*args`, there is also `**kwargs`, where you can pass **named parameters** instead of unnamed ones. You can pass as many parameters as you want to `**kwargs`. They will later be stored in a `Dictionary` where the parameter names will be the keys and the parameter values will be the values. You can also use `*args` and `**kwargs` together, but we will not go into detail here. At the moment these keywords may not be very interesting, but you will see them very often in the code of **large packages**. \n",
    "\n",
    "Let us rewrite our **example** using **named parameters**. "
   ]
  },
  {
   "cell_type": "code",
   "execution_count": 8,
   "metadata": {},
   "outputs": [],
   "source": [
    "# define function with kwargs as dictionary, including name and location\n",
    "\n",
    "        \n",
    "# call function with unknown named parameters\n"
   ]
  },
  {
   "cell_type": "markdown",
   "metadata": {},
   "source": [
    "Now you have seen some simple examples of what you can do with functions. But so far our examples have been very shortened, in pratice your would probably use a more meaningful name, a `return` **statement** and **print** the message **outside** the functions, and you would have to write **docstrings**.\n",
    "\n",
    "Wait, what is a docsting? A **docstring** is a **multiline string** after you have declared a function in which its **purpose** and **parameters** are explained. If you do not how to use a function, you can call its docstring later with the function `help()`. Well programmed code always includes docstrings. You can get an idea of well written docstrings in **style guides**. For now, we will look at a complete example of a function. \n",
    "\n",
    "Let us write a **complete function** as it could be used in practice. "
   ]
  },
  {
   "cell_type": "code",
   "execution_count": 9,
   "metadata": {},
   "outputs": [
    {
     "name": "stdout",
     "output_type": "stream",
     "text": [
      "Hello all in Konstanz!\n"
     ]
    }
   ],
   "source": [
    "def hello_message(location, *names):\n",
    "    \"\"\"\n",
    "    Function that returns welcome message for people in location\n",
    "    \n",
    "    Parameters\n",
    "    ----------\n",
    "    location: String\n",
    "        Name of location\n",
    "        \n",
    "    *names: String(s)\n",
    "        Name(s) of people\n",
    "    \n",
    "    Returns\n",
    "    -------\n",
    "    String\n",
    "        Welcome message\n",
    "    \n",
    "    \"\"\"\n",
    "    \n",
    "    message = \"Hello {} in {}!\".format(\" and \".join(names), location)\n",
    "    \n",
    "    return message\n",
    "\n",
    "# call function and print message\n",
    "print(hello_message(\"Konstanz\", \"all\"))"
   ]
  },
  {
   "cell_type": "markdown",
   "metadata": {},
   "source": [
    "<div class=\"alert alert-block alert-info\">\n",
    "    <b>Exercise</b>: Write a function for each task:\n",
    "</div>"
   ]
  },
  {
   "cell_type": "code",
   "execution_count": 10,
   "metadata": {},
   "outputs": [],
   "source": [
    "values = [-1, 0, 1, 2]\n",
    "#a) compute the sum of a list of intergers."
   ]
  },
  {
   "cell_type": "code",
   "execution_count": 11,
   "metadata": {},
   "outputs": [],
   "source": [
    "#b) compute the average of a list of integers."
   ]
  },
  {
   "cell_type": "code",
   "execution_count": 12,
   "metadata": {},
   "outputs": [],
   "source": [
    "#c) returns the sum of absolute values in a list of integers. (hint: you may use an if-statement)"
   ]
  },
  {
   "cell_type": "markdown",
   "metadata": {},
   "source": [
    "## 2.6 Anonymous Functions"
   ]
  },
  {
   "cell_type": "markdown",
   "metadata": {},
   "source": [
    "Small **anonymous functions** can be created with the `lambda` **keyword**, they are also called lambda functions in Python because instead of declaring them with the standard `def` keyword, you use the `lambda` keyword. What is special about these functions is that they have **no name**. Lambda functions can be used wherever function objects are required. They are syntactically restricted to a **single expression**. You can use anonymous functions when you require a nameless function for a short period of time and that is created at runtime. \n",
    "\n",
    "```python\n",
    "lambda argument_1, argument_2 : expression\n",
    "```\n",
    "\n",
    "In the following example we will use `lambda` functions to prepare dates inside a list to sort them by year. Like this, `lambda` are very typically used. \n",
    "\n",
    "Let us sort a **list of dates** by their years with an **anonymous function**. To **sort** the list, we use the function `sorted()`. "
   ]
  },
  {
   "cell_type": "code",
   "execution_count": 13,
   "metadata": {},
   "outputs": [
    {
     "name": "stdout",
     "output_type": "stream",
     "text": [
      "['13/02/2017', '28/07/2016', '02/04/2013', '30/09/2018', '01/05/2018']\n"
     ]
    }
   ],
   "source": [
    "# define list of dates\n",
    "dates = [\"13/02/2017\", \"28/07/2016\", \"02/04/2013\", \"30/09/2018\", \"01/05/2018\"]\n",
    "\n",
    "# sort by default\n",
    "\n",
    "\n",
    "# print sorted dates\n",
    "print(dates)\n",
    "\n",
    "\n",
    "#... sorted by days"
   ]
  },
  {
   "cell_type": "code",
   "execution_count": 14,
   "metadata": {},
   "outputs": [
    {
     "name": "stdout",
     "output_type": "stream",
     "text": [
      "['13/02/2017', '28/07/2016', '02/04/2013', '30/09/2018', '01/05/2018']\n"
     ]
    }
   ],
   "source": [
    "# define list of dates\n",
    "dates = [\"13/02/2017\", \"28/07/2016\", \"02/04/2013\", \"30/09/2018\", \"01/05/2018\"]\n",
    "\n",
    "# sort by year\n",
    "\n",
    "\n",
    "# print dates sorted by year\n",
    "print(dates)\n",
    "\n",
    "#... still not perfect"
   ]
  },
  {
   "cell_type": "markdown",
   "metadata": {},
   "source": [
    "## 2.7 Local and Global Variables"
   ]
  },
  {
   "cell_type": "markdown",
   "metadata": {},
   "source": [
    "**Local variables** are assigned inside a called **function** and exist only in the scope of the function's local scope. In comparison, **global variables** are assigned outside of functions and exist in the entire **program**, also inside called functions. If a variable is defined inside the scope of a function, and a variable with the same name exists already in the global scope, then Python will work with the local instead of the global variables.\n",
    "\n",
    "**Global variables** can be printed or used within a **function** without any problems, but **cannot** be **assigned** or **changed**. What is the reason for this behavior? by default, each variable in a function is local. To work with the global variable we have to use the keyword `global`. However, it is recommended to **pass** all **variables** used inside a function explicitly over to avoid this problem. \n",
    "\n",
    "The first example shows the problem of mixing local and global variables. The second example shows how this problem can be solved with the keyword `global`. \n",
    "\n",
    "Let us see how we can use **local** and **global variables** in a **function**. "
   ]
  },
  {
   "cell_type": "code",
   "execution_count": 15,
   "metadata": {},
   "outputs": [
    {
     "name": "stdout",
     "output_type": "stream",
     "text": [
      "['13/02/2017', '28/07/2016', '02/04/2013', '30/09/2018', '01/05/2018']\n"
     ]
    }
   ],
   "source": [
    "# define global variable\n",
    "dates = [\"13/02/2017\", \"28/07/2016\", \"02/04/2013\", \"30/09/2018\", \"01/05/2018\"]\n",
    "\n",
    "# define function with local/global call of dates\n",
    "\n",
    "\n",
    "# call function\n",
    "\n",
    "\n",
    "# print dates\n",
    "print(dates)"
   ]
  },
  {
   "cell_type": "code",
   "execution_count": null,
   "metadata": {},
   "outputs": [],
   "source": []
  },
  {
   "cell_type": "markdown",
   "metadata": {},
   "source": [
    "<div class=\"alert alert-block alert-info\">\n",
    "    <b>Exercise</b>: Write a function that sorts any list of strings with dates in the format DD/MM/YYYY. Sort by year, month and day. Define an additional parameter to decide whether you want to have the dates sorted ascendingly or descendingly. Finally sort ascendingly the list of dates above. \n",
    "</div>"
   ]
  },
  {
   "cell_type": "code",
   "execution_count": null,
   "metadata": {},
   "outputs": [],
   "source": [
    "dates = sorted(dates, key = lambda x: x.split(\"/\"), reverse = True)"
   ]
  },
  {
   "cell_type": "markdown",
   "metadata": {},
   "source": [
    "Original Source: \n",
    "Python Block Course; Prof. Dr. Karsten Donnay, Stefan Scholz; Winter Term 2019 / 2020"
   ]
  }
 ],
 "metadata": {
  "kernelspec": {
   "display_name": "Python 3",
   "language": "python",
   "name": "python3"
  },
  "language_info": {
   "codemirror_mode": {
    "name": "ipython",
    "version": 3
   },
   "file_extension": ".py",
   "mimetype": "text/x-python",
   "name": "python",
   "nbconvert_exporter": "python",
   "pygments_lexer": "ipython3",
   "version": "3.8.3"
  }
 },
 "nbformat": 4,
 "nbformat_minor": 4
}
