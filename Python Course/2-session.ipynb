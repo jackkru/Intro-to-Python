{
 "cells": [
  {
   "cell_type": "markdown",
   "metadata": {},
   "source": [
    "# Python Block Course\n",
    "# Session 2: Functions and modules in focus"
   ]
  },
  {
   "cell_type": "markdown",
   "metadata": {},
   "source": [
    "Prof. Dr. Karsten Donnay, Stefan Scholz\n",
    "\n",
    "Winter Term 2019 / 2020\n",
    "\n",
    "In this second session we will learn for (simple) applications how to write our own Python code. At the same time we also learn how to write our **own functions**, how **built-in modules** support us and how we make the most out of them. "
   ]
  },
  {
   "cell_type": "markdown",
   "metadata": {},
   "source": [
    "## 2.1 Recap: Built-In Functions"
   ]
  },
  {
   "cell_type": "markdown",
   "metadata": {},
   "source": [
    "A convenient way to get things done in Python is to use functions. **Functions** are indicated by **round brackets** which are appended directly after the **name** of the **function**. **Inside** the **brackets** the **input** is handed over to the function.\n",
    "\n",
    "Yesterday we used the functions `print()`, `help()`, `len()`, `sum()`, `type()` among others. When we used these functions, they had in common that they always came from Python's standard library, and we used only one input parameter most of the times. \n",
    "\n",
    "Let us call a simple built-in function."
   ]
  },
  {
   "cell_type": "code",
   "execution_count": 1,
   "metadata": {},
   "outputs": [
    {
     "name": "stdout",
     "output_type": "stream",
     "text": [
      "11\n"
     ]
    }
   ],
   "source": [
    "# define tuple\n",
    "points = (0, 1, 2, 3, 4, 5, 6, 7, 8, 9, 10)\n",
    "\n",
    "# print length\n",
    "print(len(points))"
   ]
  },
  {
   "cell_type": "markdown",
   "metadata": {},
   "source": [
    "In the following section we will see that we can write our own functions, and that functions can take more than one input parameter in general. "
   ]
  },
  {
   "cell_type": "markdown",
   "metadata": {},
   "source": [
    "## 2.2 User-Defined Functions"
   ]
  },
  {
   "cell_type": "markdown",
   "metadata": {},
   "source": [
    "**User-defined functions** have the goal to **recycle** code blocks, such that the same code block can be executed **several times**. With functions, the code can be made more **understandable** and **modular**. In addition, functions offer a certain **flexibility** through their input parameters, so that the code can be used for the same purpose in the broadest sense. \n",
    "\n",
    "To declare your own function in Python, you must first write the **keyword** `def`, then the **name** of the function itself, followed by the **parameteres** in **round brackets** `(` `)`, and end the declaration with a **colon** `:`. This is followed by the **code** to be executed in the function which is **indented**. A the end of the code there can be a `return` **statement**, which returns one or more values, so that they can be used **outside** the function. \n",
    "\n",
    "Let us look at the **syntax** of a function.\n",
    "\n",
    "```python\n",
    "def function_name(argument_1, argument_2):\n",
    "    {this is the code in the function}\n",
    "    {more code doing something with the arguments}\n",
    "    {more code}\n",
    "    return {value to return to the main program}\n",
    "```\n",
    "\n",
    "Suppose we have a list of student we want to **welcome** personally. We could write the greeting for each student individually, or better **automate** it with a **function**. "
   ]
  },
  {
   "cell_type": "code",
   "execution_count": null,
   "metadata": {},
   "outputs": [],
   "source": [
    "print(\"Hello Hans!\")\n",
    "print(\"Hello Adam!\")\n",
    "print(\"Hello Christine!\")"
   ]
  },
  {
   "cell_type": "code",
   "execution_count": 2,
   "metadata": {},
   "outputs": [
    {
     "name": "stdout",
     "output_type": "stream",
     "text": [
      "Hello Hans!\n",
      "Hello Adam!\n",
      "Hello Christine!\n"
     ]
    }
   ],
   "source": [
    "# define function\n",
    "def hello(name):\n",
    "    print(\"Hello {}!\".format(name))\n",
    "\n",
    "# define list of students\n",
    "students = [\"Hans\", \"Adam\", \"Christine\"]\n",
    "\n",
    "# loop over students\n",
    "for student in students:\n",
    "    hello(student)"
   ]
  },
  {
   "cell_type": "markdown",
   "metadata": {},
   "source": [
    "In the function above, the function has a **required parameter**. If we would call the function without a name, the function would abort. However, if we set a **default parameter**, then we take the default in case no other parameter is passed. \n",
    "\n",
    "Let us set a **default parameter**. "
   ]
  },
  {
   "cell_type": "code",
   "execution_count": 3,
   "metadata": {},
   "outputs": [
    {
     "name": "stdout",
     "output_type": "stream",
     "text": [
      "Hello Lisa!\n"
     ]
    }
   ],
   "source": [
    "# define function\n",
    "def hello(name = \"Lisa\"):\n",
    "    print(\"Hello {}!\".format(name))\n",
    "    \n",
    "# call function without name\n",
    "hello()"
   ]
  },
  {
   "cell_type": "code",
   "execution_count": 4,
   "metadata": {},
   "outputs": [
    {
     "name": "stdout",
     "output_type": "stream",
     "text": [
      "Hello Eva!\n"
     ]
    }
   ],
   "source": [
    "# define function\n",
    "def hello(name = \"Lisa\"):\n",
    "    print(\"Hello {}!\".format(name))\n",
    "    \n",
    "# call function without name\n",
    "hello(\"Eva\")"
   ]
  },
  {
   "cell_type": "markdown",
   "metadata": {},
   "source": [
    "If your functions get more complicated and have **several input parameters**, it is a good idea to **explicitly mention** the **parameter names** in the **function call**. If no parameter names are given, then the values passed must be in the order of the parameters. If parameter names are given, the values can be written in a mixed order too. \n",
    "\n",
    "Let us write a function with **two inputs** and pass its **parameters explicitly**. "
   ]
  },
  {
   "cell_type": "code",
   "execution_count": 5,
   "metadata": {},
   "outputs": [
    {
     "name": "stdout",
     "output_type": "stream",
     "text": [
      "Hello Anton in Litzelstetten!\n"
     ]
    }
   ],
   "source": [
    "# define function\n",
    "def hello(name = \"Lisa\", location = \"Konstanz\"):\n",
    "    print(\"Hello {} in {}!\".format(name, location))\n",
    "    \n",
    "# call function with explicit parameters\n",
    "hello(name = \"Anton\", location = \"Litzelstetten\")"
   ]
  },
  {
   "cell_type": "markdown",
   "metadata": {},
   "source": [
    "If you are not sure how many input parameters you want to pass, you can write the function in such a way that it takes **any number of parameters**. All what you have to do is write an **asteriks** `*` before a variable. This variable will capture all additional parameters and store them in a `Tuple`. Basically you can name this variable as you like, but by convention it is named `*args`. \n",
    "\n",
    "Let us write a function in which we greet an unknown number of students. "
   ]
  },
  {
   "cell_type": "code",
   "execution_count": 6,
   "metadata": {},
   "outputs": [
    {
     "name": "stdout",
     "output_type": "stream",
     "text": [
      "Hello Egon and Sarah and Linda and Chris in Konstanz!\n"
     ]
    }
   ],
   "source": [
    "# define function\n",
    "def hello(location, *names):\n",
    "    print(\"Hello {} in {}!\".format(\" and \".join(names), location))\n",
    "    \n",
    "# call function with unknown number parameters # order matters!!\n",
    "hello(\"Konstanz\", \"Egon\", \"Sarah\", \"Linda\", \"Chris\")"
   ]
  },
  {
   "cell_type": "markdown",
   "metadata": {},
   "source": [
    "Besides the **keyword** `*args`, there is also `**kwargs`, where you can pass **named parameters** instead of unnamed ones. You can pass as many parameters as you want to `**kwargs`. They will later be stored in a `Dictionary` where the parameter names will be the keys and the parameter values will be the values. You can also use `*args` and `**kwargs` together, but we will not go into detail here. At the moment these keywords may not be very interesting, but you will see them very often in the code of **large packages**. \n",
    "\n",
    "Let us rewrite our **example** using **named parameters**. "
   ]
  },
  {
   "cell_type": "code",
   "execution_count": 7,
   "metadata": {},
   "outputs": [
    {
     "name": "stdout",
     "output_type": "stream",
     "text": [
      "Hello Lea in Zurich!\n",
      "Hello Jose in Geneva!\n",
      "Hello Konrad in Stuttgart!\n"
     ]
    }
   ],
   "source": [
    "# define function\n",
    "def hello(**kwargs):\n",
    "    for name, location in kwargs.items():\n",
    "        print(\"Hello {} in {}!\".format(name, location))\n",
    "        \n",
    "# call function with unknown named parameters\n",
    "hello(Lea = \"Zurich\", Jose = \"Geneva\", Konrad = \"Stuttgart\")"
   ]
  },
  {
   "cell_type": "markdown",
   "metadata": {},
   "source": [
    "Now you have seen some simple examples of what you can do with functions. But so far our examples have been very shortened, in pratice your would probably use a more meaningful name, a `return` **statement** and **print** the message **outside** the functions, and you would have to write **docstrings**.\n",
    "\n",
    "Wait, what is a docsting? A **docstring** is a **multiline string** after you have declared a function in which its **purpose** and **parameters** are explained. If you do not how to use a function, you can call its docstring later with the function `help()`. Well programmed code always includes docstrings. You can get an idea of well written docstrings in **style guides**. For now, we will look at a complete example of a function. \n",
    "\n",
    "Let us write a **complete function** as it could be used in practice. "
   ]
  },
  {
   "cell_type": "code",
   "execution_count": 8,
   "metadata": {},
   "outputs": [
    {
     "name": "stdout",
     "output_type": "stream",
     "text": [
      "Hello all in Konstanz!\n"
     ]
    }
   ],
   "source": [
    "def hello_message(location, *names):\n",
    "    \"\"\"\n",
    "    Function that returns welcome message for people in location\n",
    "    \n",
    "    Parameters\n",
    "    ----------\n",
    "    location: String\n",
    "        Name of location\n",
    "        \n",
    "    *names: String(s)\n",
    "        Name(s) of people\n",
    "    \n",
    "    Returns\n",
    "    -------\n",
    "    String\n",
    "        Welcome message\n",
    "    \n",
    "    \"\"\"\n",
    "    \n",
    "    message = \"Hello {} in {}!\".format(\" and \".join(names), location)\n",
    "    \n",
    "    return message\n",
    "\n",
    "# call function and print message\n",
    "print(hello_message(\"Konstanz\", \"all\"))"
   ]
  },
  {
   "cell_type": "markdown",
   "metadata": {},
   "source": [
    "## 2.3 Anonymous Functions"
   ]
  },
  {
   "cell_type": "markdown",
   "metadata": {},
   "source": [
    "Small **anonymous functions** can be created with the `lambda` **keyword**, they are also called lambda functions in Python because instead of declaring them with the standard `def` keyword, you use the `lambda` keyword. What is special about these functions is that they have **no name**. Lambda functions can be used wherever function objects are required. They are syntactically restricted to a **single expression**. You can use anonymous functions when you require a nameless function for a short period of time and that is created at runtime. \n",
    "\n",
    "```python\n",
    "lambda argument_1, argument_2 : expression\n",
    "```\n",
    "\n",
    "In the following example we will use `lambda` functions to prepare dates inside a list to sort them by year. Like this, `lambda` are very typically used. \n",
    "\n",
    "Let us sort a **list of dates** by their years with an **anonymous function**. To **sort** the list, we use the function `sorted()`. "
   ]
  },
  {
   "cell_type": "code",
   "execution_count": 9,
   "metadata": {},
   "outputs": [
    {
     "name": "stdout",
     "output_type": "stream",
     "text": [
      "['01/05/2018', '02/04/2013', '13/02/2017', '28/07/2016', '30/09/2018']\n"
     ]
    }
   ],
   "source": [
    "# define list of dates\n",
    "dates = [\"13/02/2017\", \"28/07/2016\", \"02/04/2013\", \"30/09/2018\", \"01/05/2018\"]\n",
    "\n",
    "# sort by default\n",
    "dates = sorted(dates)\n",
    "\n",
    "# print sorted dates\n",
    "print(dates)"
   ]
  },
  {
   "cell_type": "code",
   "execution_count": 12,
   "metadata": {},
   "outputs": [
    {
     "name": "stdout",
     "output_type": "stream",
     "text": [
      "['02/04/2013', '28/07/2016', '13/02/2017', '30/09/2018', '01/05/2018']\n"
     ]
    }
   ],
   "source": [
    "# define list of dates\n",
    "dates = [\"13/02/2017\", \"28/07/2016\", \"02/04/2013\", \"30/09/2018\", \"01/05/2018\"]\n",
    "\n",
    "# sort by year\n",
    "dates = sorted(dates, key=lambda x: x.split('/')[-1])\n",
    "\n",
    "# print dates sorted by year\n",
    "print(dates)"
   ]
  },
  {
   "cell_type": "markdown",
   "metadata": {},
   "source": [
    "## 2.4 Local and Global Variables"
   ]
  },
  {
   "cell_type": "markdown",
   "metadata": {},
   "source": [
    "**Local variables** are assigned inside a called **function** and exist only in the scope of the function's local scope. In comparison, **global variables** are assigned outside of functions and exist in the entire **program**, also inside called functions. If a variable is defined inside the scope of a function, and a variable with the same name exists already in the global scope, then Python will work with the local instead of the global variables.\n",
    "\n",
    "**Global variables** can be printed or used within a **function** without any problems, but **cannot** be **assigned** or **changed**. What is the reason for this behavior? by default, each variable in a function is local. To work with the global variable we have to use the keyword `global`. However, it is recommended to **pass** all **variables** used inside a function explicitly over to avoid this problem. \n",
    "\n",
    "The first example shows the problem of mixing local and global variables. The second example shows how this problem can be solved with the keyword `global`. \n",
    "\n",
    "Let us see how we can use **local** and **global variables** in a **function**. "
   ]
  },
  {
   "cell_type": "code",
   "execution_count": 13,
   "metadata": {},
   "outputs": [
    {
     "ename": "UnboundLocalError",
     "evalue": "local variable 'dates' referenced before assignment",
     "output_type": "error",
     "traceback": [
      "\u001b[1;31m---------------------------------------------------------------------------\u001b[0m",
      "\u001b[1;31mUnboundLocalError\u001b[0m                         Traceback (most recent call last)",
      "\u001b[1;32m<ipython-input-13-be48e0ee6766>\u001b[0m in \u001b[0;36m<module>\u001b[1;34m\u001b[0m\n\u001b[0;32m     10\u001b[0m \u001b[1;33m\u001b[0m\u001b[0m\n\u001b[0;32m     11\u001b[0m \u001b[1;31m# call function\u001b[0m\u001b[1;33m\u001b[0m\u001b[1;33m\u001b[0m\u001b[1;33m\u001b[0m\u001b[0m\n\u001b[1;32m---> 12\u001b[1;33m \u001b[0mfirst_date\u001b[0m\u001b[1;33m(\u001b[0m\u001b[1;33m)\u001b[0m\u001b[1;33m\u001b[0m\u001b[1;33m\u001b[0m\u001b[0m\n\u001b[0m\u001b[0;32m     13\u001b[0m \u001b[1;33m\u001b[0m\u001b[0m\n\u001b[0;32m     14\u001b[0m \u001b[1;31m# print dates\u001b[0m\u001b[1;33m\u001b[0m\u001b[1;33m\u001b[0m\u001b[1;33m\u001b[0m\u001b[0m\n",
      "\u001b[1;32m<ipython-input-13-be48e0ee6766>\u001b[0m in \u001b[0;36mfirst_date\u001b[1;34m()\u001b[0m\n\u001b[0;32m      5\u001b[0m \u001b[1;32mdef\u001b[0m \u001b[0mfirst_date\u001b[0m\u001b[1;33m(\u001b[0m\u001b[1;33m)\u001b[0m\u001b[1;33m:\u001b[0m\u001b[1;33m\u001b[0m\u001b[1;33m\u001b[0m\u001b[0m\n\u001b[0;32m      6\u001b[0m     \u001b[1;31m# sort dates\u001b[0m\u001b[1;33m\u001b[0m\u001b[1;33m\u001b[0m\u001b[1;33m\u001b[0m\u001b[0m\n\u001b[1;32m----> 7\u001b[1;33m     \u001b[0mdates\u001b[0m \u001b[1;33m=\u001b[0m \u001b[0msorted\u001b[0m\u001b[1;33m(\u001b[0m\u001b[0mdates\u001b[0m\u001b[1;33m,\u001b[0m \u001b[0mkey\u001b[0m\u001b[1;33m=\u001b[0m\u001b[1;32mlambda\u001b[0m \u001b[0mx\u001b[0m\u001b[1;33m:\u001b[0m \u001b[0mx\u001b[0m\u001b[1;33m.\u001b[0m\u001b[0msplit\u001b[0m\u001b[1;33m(\u001b[0m\u001b[1;34m'/'\u001b[0m\u001b[1;33m)\u001b[0m\u001b[1;33m[\u001b[0m\u001b[1;33m-\u001b[0m\u001b[1;36m1\u001b[0m\u001b[1;33m]\u001b[0m\u001b[1;33m)\u001b[0m\u001b[1;33m\u001b[0m\u001b[1;33m\u001b[0m\u001b[0m\n\u001b[0m\u001b[0;32m      8\u001b[0m \u001b[1;33m\u001b[0m\u001b[0m\n\u001b[0;32m      9\u001b[0m     \u001b[1;32mreturn\u001b[0m \u001b[0mdates\u001b[0m\u001b[1;33m[\u001b[0m\u001b[1;36m0\u001b[0m\u001b[1;33m]\u001b[0m\u001b[1;33m\u001b[0m\u001b[1;33m\u001b[0m\u001b[0m\n",
      "\u001b[1;31mUnboundLocalError\u001b[0m: local variable 'dates' referenced before assignment"
     ]
    }
   ],
   "source": [
    "# define global variable\n",
    "dates = [\"13/02/2017\", \"28/07/2016\", \"02/04/2013\", \"30/09/2018\", \"01/05/2018\"]\n",
    "\n",
    "# define function\n",
    "def first_date():\n",
    "    # sort dates\n",
    "    dates = sorted(dates, key=lambda x: x.split('/')[-1]) \n",
    "    \n",
    "    return dates[0]\n",
    "\n",
    "# call function\n",
    "first_date()\n",
    "\n",
    "# print dates\n",
    "print(dates)"
   ]
  },
  {
   "cell_type": "code",
   "execution_count": 19,
   "metadata": {},
   "outputs": [
    {
     "name": "stdout",
     "output_type": "stream",
     "text": [
      "['02/04/2013', '28/07/2016', '13/02/2017', '30/09/2018', '01/05/2018']\n"
     ]
    }
   ],
   "source": [
    "# define global variable\n",
    "dates = [\"13/02/2017\", \"28/07/2016\", \"02/04/2013\", \"30/09/2018\", \"01/05/2018\"]\n",
    "\n",
    "# define function\n",
    "def first_date():\n",
    "    # use global variable\n",
    "    global dates\n",
    "    \n",
    "    # sort dates\n",
    "    dates = sorted(dates, key=lambda x: x.split('/')[-1]) \n",
    "    \n",
    "    return dates[-1]\n",
    "\n",
    "# call function\n",
    "first_date()\n",
    "\n",
    "# print dates\n",
    "print(dates)"
   ]
  },
  {
   "cell_type": "markdown",
   "metadata": {},
   "source": [
    "<div class=\"alert alert-block alert-info\">\n",
    "    <b>Exercise</b>: Write a function that sorts any list of strings with dates in the format DD-MM-YYYY. Sort by year, month and day. Define an additional parameter to decide whether you want to have the dates sorted ascendingly or descendingly. Finally sort ascendingly the list of dates above. \n",
    "</div>"
   ]
  },
  {
   "cell_type": "code",
   "execution_count": 3,
   "metadata": {},
   "outputs": [
    {
     "name": "stdout",
     "output_type": "stream",
     "text": [
      "['30/09/2018', '01/05/2018', '13/02/2017', '28/07/2016', '02/04/2013']\n"
     ]
    }
   ],
   "source": [
    "# define global variable\n",
    "dates = [\"13/02/2017\", \"28/07/2016\", \"02/04/2013\", \"30/09/2018\", \"01/05/2018\"]\n",
    "\n",
    "\n",
    "\n",
    "# define function\n",
    "def first_date(i):\n",
    "    # use global variable\n",
    "    global dates\n",
    "    \n",
    "    # sort dates\n",
    "    dates = sorted(dates, key=lambda x: x.split('/')[i], reverse= True) \n",
    "    \n",
    "    return dates\n",
    "\n",
    "# call function\n",
    "for i in range(3):\n",
    "    first_date(i)\n",
    "\n",
    "# print dates\n",
    "print(dates)"
   ]
  },
  {
   "cell_type": "code",
   "execution_count": null,
   "metadata": {},
   "outputs": [],
   "source": []
  },
  {
   "cell_type": "markdown",
   "metadata": {},
   "source": [
    "## 2.5 Built-In Modules"
   ]
  },
  {
   "cell_type": "markdown",
   "metadata": {},
   "source": [
    "We already looked at some built-in functions yesterday. But there are many more functions available in Python. All you have to do is **import modules** in which more **functions**, **classes** and **variables** are included. Each of these modules provides functionalities in a certain category. These built-in modules can be imported directly without the need to install them. \n",
    "\n",
    "The **syntax** for **importing** a **module** looks as follows. This statement is executed at the beginning of code so that all its functionalities are available in the actual code later.\n",
    "\n",
    "```python\n",
    "import module\n",
    "```\n",
    "\n",
    "We will discuss a few of these **modules** and have a **quick look** at some **use cases** soon. Here is a first **overview** of these **modules**:\n",
    "\n",
    "| Module | Description |\n",
    "| -------- | ------- |\n",
    "| `os` | Miscellaneous operating system interfaces |\n",
    "| `random` | Generate pseudo-random numbers |\n",
    "| `datetime` | Basic date and time types |\n",
    "| `re` | Regular expression operations |\n",
    "| `csv` | Read and write tabular data in CSV format |\n",
    "\n",
    "To get a **complete list** of all modules, you can use the function `help()` and search for modules. "
   ]
  },
  {
   "cell_type": "code",
   "execution_count": 43,
   "metadata": {},
   "outputs": [
    {
     "name": "stdout",
     "output_type": "stream",
     "text": [
      "\n",
      "Please wait a moment while I gather a list of all available modules...\n",
      "\n"
     ]
    },
    {
     "name": "stderr",
     "output_type": "stream",
     "text": [
      "C:\\Users\\JohnDoe\\Anaconda3\\lib\\site-packages\\IPython\\kernel\\__init__.py:13: ShimWarning: The `IPython.kernel` package has been deprecated since IPython 4.0.You should import from ipykernel or jupyter_client instead.\n",
      "  \"You should import from ipykernel or jupyter_client instead.\", ShimWarning)\n",
      "WARNING: AstropyDeprecationWarning: astropy.utils.compat.futures is now deprecated - use concurrent.futures instead [astropy.utils.compat.futures]\n",
      "C:\\Users\\JohnDoe\\Anaconda3\\lib\\site-packages\\nltk\\twitter\\__init__.py:22: UserWarning: The twython library has not been installed. Some functionality from the twitter package will not be available.\n",
      "  \"The twython library has not been installed. \"\n"
     ]
    },
    {
     "name": "stdout",
     "output_type": "stream",
     "text": [
      "DEBUG:pip._internal.vcs:Registered VCS backend: git\n",
      "DEBUG:pip._internal.vcs:Registered VCS backend: hg\n",
      "DEBUG:pip._internal.vcs:Registered VCS backend: svn\n",
      "DEBUG:pip._internal.vcs:Registered VCS backend: bzr\n"
     ]
    },
    {
     "name": "stderr",
     "output_type": "stream",
     "text": [
      "C:\\Users\\JohnDoe\\Anaconda3\\lib\\site-packages\\skimage\\novice\\__init__.py:103: UserWarning: The `skimage.novice` module was deprecated in version 0.14. It will be removed in 0.16.\n",
      "  warnings.warn(\"The `skimage.novice` module was deprecated in version 0.14. \"\n",
      "C:\\Users\\JohnDoe\\Anaconda3\\lib\\site-packages\\skimage\\viewer\\utils\\core.py:10: UserWarning: Recommended matplotlib backend is `Agg` for full skimage.viewer functionality.\n",
      "  warn(\"Recommended matplotlib backend is `Agg` for full \"\n",
      "C:\\Users\\JohnDoe\\Anaconda3\\lib\\site-packages\\sklearn\\externals\\joblib\\__init__.py:15: DeprecationWarning: sklearn.externals.joblib is deprecated in 0.21 and will be removed in 0.23. Please import this functionality directly from joblib, which can be installed with: pip install joblib. If this warning is raised when loading pickled models, you may need to re-serialize those models with scikit-learn 0.21+.\n",
      "  warnings.warn(msg, category=DeprecationWarning)\n",
      "C:\\Users\\JohnDoe\\Anaconda3\\lib\\site-packages\\qtawesome\\iconic_font.py:276: UserWarning: You need to have a running QApplication to use QtAwesome!\n",
      "  warnings.warn(\"You need to have a running \"\n",
      "C:\\Users\\JohnDoe\\Anaconda3\\lib\\pkgutil.py:107: VisibleDeprecationWarning: zmq.eventloop.minitornado is deprecated in pyzmq 14.0 and will be removed.\n",
      "    Install tornado itself to use zmq with the tornado IOLoop.\n",
      "    \n",
      "  yield from walk_packages(path, info.name+'.', onerror)\n"
     ]
    },
    {
     "name": "stdout",
     "output_type": "stream",
     "text": [
      "Crypto              builtins            menuinst            sockshandler\n",
      "Cython              bz2                 mimetypes           sortedcollections\n",
      "IPython             cProfile            mistune             sortedcontainers\n",
      "OpenSSL             calendar            mkl                 soupsieve\n",
      "PIL                 certifi             mkl_fft             sphinx\n",
      "PyQt5               cffi                mkl_random          sphinxcontrib\n",
      "__future__          cgi                 mmap                spyder\n",
      "_abc                cgitb               mmapfile            spyder_breakpoints\n",
      "_ast                chardet             mmsystem            spyder_io_dcm\n",
      "_asyncio            chunk               mock                spyder_io_hdf5\n",
      "_bisect             click               modulefinder        spyder_kernels\n",
      "_blake2             cloudpickle         more_itertools      spyder_profiler\n",
      "_bootlocale         clyent              mpmath              spyder_pylint\n",
      "_bz2                cmath               msgpack             sqlalchemy\n",
      "_cffi_backend       cmd                 msilib              sqlite3\n",
      "_codecs             code                msvcrt              sre_compile\n",
      "_codecs_cn          codecs              multipledispatch    sre_constants\n",
      "_codecs_hk          codeop              multiprocessing     sre_parse\n",
      "_codecs_iso2022     collections         navigator_updater   ssl\n",
      "_codecs_jp          colorama            nbconvert           sspi\n",
      "_codecs_kr          colorsys            nbformat            sspicon\n",
      "_codecs_tw          commctrl            netbios             stat\n",
      "_collections        compileall          netrc               statistics\n",
      "_collections_abc    comtypes            networkx            statsmodels\n",
      "_compat_pickle      concurrent          nltk                storemagic\n",
      "_compression        conda               nntplib             string\n",
      "_contextvars        conda_build         nose                stringprep\n",
      "_csv                conda_env           notebook            struct\n",
      "_ctypes             conda_package_handling nt                  subprocess\n",
      "_ctypes_test        conda_verify        ntpath              sunau\n",
      "_datetime           configparser        ntsecuritycon       symbol\n",
      "_decimal            contextlib          nturl2path          sympy\n",
      "_dummy_thread       contextlib2         numba               sympyprinting\n",
      "_elementtree        contextvars         numbers             symtable\n",
      "_functools          copy                numexpr             sys\n",
      "_hashlib            copyreg             numpy               sysconfig\n",
      "_heapq              crypt               numpydoc            tables\n",
      "_imp                cryptography        odbc                tabnanny\n",
      "_io                 csv                 olefile             tarfile\n",
      "_json               ctypes              opcode              tblib\n",
      "_locale             curl                openpyxl            telnetlib\n",
      "_lsprof             curses              operator            tempfile\n",
      "_lzma               cwp                 optparse            terminado\n",
      "_markupbase         cycler              os                  test\n",
      "_md5                cython              packaging           test_data\n",
      "_msi                cythonmagic         pandas              test_pycosat\n",
      "_multibytecodec     cytoolz             pandocfilters       testpath\n",
      "_multiprocessing    dask                parser              tests\n",
      "_nsis               dataclasses         parso               textwrap\n",
      "_opcode             datetime            partd               this\n",
      "_operator           dateutil            past                threading\n",
      "_osx_support        dbi                 path                time\n",
      "_overlapped         dbm                 pathlib             timeit\n",
      "_pickle             dde                 pathlib2            timer\n",
      "_py_abc             decimal             patsy               tkinter\n",
      "_pydecimal          decorator           pdb                 tlz\n",
      "_pyio               defusedxml          pep8                token\n",
      "_pylief             difflib             perfmon             tokenize\n",
      "_pyrsistent_version dis                 pickle              toolz\n",
      "_pytest             distributed         pickleshare         tornado\n",
      "_queue              distutils           pickletools         tqdm\n",
      "_random             doctest             pip                 trace\n",
      "_sha1               docutils            pipes               traceback\n",
      "_sha256             dummy_threading     pkg_resources       tracemalloc\n",
      "_sha3               easy_install        pkginfo             traitlets\n",
      "_sha512             email               pkgutil             tty\n",
      "_signal             encodings           platform            turtle\n",
      "_sitebuiltins       ensurepip           plistlib            turtledemo\n",
      "_socket             entrypoints         pluggy              types\n",
      "_sqlite3            enum                ply                 typing\n",
      "_sre                errno               poplib              unicodecsv\n",
      "_ssl                et_xmlfile          posixpath           unicodedata\n",
      "_stat               fastcache           pprint              unittest\n",
      "_string             faulthandler        profile             urllib\n",
      "_strptime           filecmp             prometheus_client   urllib3\n",
      "_struct             fileinput           prompt_toolkit      uu\n",
      "_symtable           filelock            pstats              uuid\n",
      "_system_path        flask               psutil              venv\n",
      "_testbuffer         fnmatch             pty                 warnings\n",
      "_testcapi           formatter           pvectorc            wave\n",
      "_testconsole        fractions           py                  wcwidth\n",
      "_testimportmultiple ftplib              py_compile          weakref\n",
      "_testmultiphase     functools           pyclbr              webbrowser\n",
      "_thread             future              pycodestyle         webencodings\n",
      "_threading_local    gc                  pycosat             werkzeug\n",
      "_tkinter            genericpath         pycparser           wheel\n",
      "_tracemalloc        getopt              pycurl              widgetsnbextension\n",
      "_warnings           getpass             pydoc               win2kras\n",
      "_weakref            gettext             pydoc_data          win32api\n",
      "_weakrefset         gevent              pyexpat             win32clipboard\n",
      "_win32sysloader     glob                pyflakes            win32com\n",
      "_winapi             glob2               pygments            win32con\n",
      "_winxptheme         greenlet            pylab               win32console\n",
      "_yaml               gzip                pylint              win32cred\n",
      "abc                 h5py                pyodbc              win32crypt\n",
      "adodbapi            hashlib             pyparsing           win32cryptcon\n",
      "afxres              heapdict            pyreadline          win32event\n",
      "aifc                heapq               pyrsistent          win32evtlog\n",
      "alabaster           hmac                pytest              win32evtlogutil\n",
      "anaconda_navigator  html                pytest_arraydiff    win32file\n",
      "anaconda_project    html5lib            pytest_doctestplus  win32gui\n",
      "antigravity         http                pytest_openfiles    win32gui_struct\n",
      "argparse            idlelib             pytest_remotedata   win32help\n",
      "array               idna                pythoncom           win32inet\n",
      "asn1crypto          imageio             pytz                win32inetcon\n",
      "ast                 imagesize           pywin               win32job\n",
      "astroid             imaplib             pywin32_testutil    win32lz\n",
      "astropy             imghdr              pywintypes          win32net\n",
      "asynchat            imp                 pywt                win32netcon\n",
      "asyncio             importlib           pyximport           win32pdh\n",
      "asyncore            importlib_metadata  qtawesome           win32pdhquery\n",
      "atexit              inspect             qtconsole           win32pdhutil\n",
      "atomicwrites        io                  qtpy                win32pipe\n",
      "attr                ipaddress           queue               win32print\n",
      "audioop             ipykernel           quopri              win32process\n",
      "autoreload          ipykernel_launcher  random              win32profile\n",
      "babel               ipython_genutils    rasutil             win32ras\n",
      "backcall            ipywidgets          re                  win32rcparser\n",
      "backports           isapi               readline            win32security\n",
      "base64              isort               regcheck            win32service\n",
      "bdb                 isympy              regutil             win32serviceutil\n",
      "binascii            itertools           reprlib             win32timezone\n",
      "binhex              itsdangerous        requests            win32trace\n",
      "binstar_client      jdcal               rlcompleter         win32traceutil\n",
      "bisect              jedi                rmagic              win32transaction\n",
      "bitarray            jinja2              rope                win32ts\n",
      "bkcharts            joblib              ruamel_yaml         win32ui\n",
      "bleach              json                run                 win32uiole\n",
      "bokeh               json5               runpy               win32verstamp\n",
      "boto                jsonschema          sched               win32wnet\n",
      "bottleneck          jupyter             scipy               win_inet_pton\n",
      "brain_argparse      jupyter_client      scripts             win_unicode_console\n",
      "brain_attrs         jupyter_console     seaborn             wincertstore\n",
      "brain_builtin_inference jupyter_core        secrets             winerror\n",
      "brain_collections   jupyterlab          select              winioctlcon\n",
      "brain_curses        jupyterlab_server   selectors           winnt\n",
      "brain_dateutil      keyring             send2trash          winperf\n",
      "brain_fstrings      keyword             servicemanager      winpty\n",
      "brain_functools     kiwisolver          setuptools          winreg\n",
      "brain_gi            lazy_object_proxy   shelve              winsound\n",
      "brain_hashlib       lib2to3             shlex               winxpgui\n",
      "brain_http          libarchive          shutil              winxptheme\n",
      "brain_io            libfuturize         signal              wrapt\n",
      "brain_mechanize     libpasteurize       simplegeneric       wsgiref\n",
      "brain_multiprocessing lief                singledispatch      xdrlib\n",
      "brain_namedtuple_enum linecache           singledispatch_helpers xlrd\n",
      "brain_nose          llvmlite            sip                 xlsxwriter\n",
      "brain_numpy         locale              sipconfig           xlwings\n",
      "brain_pkg_resources locket              sipdistutils        xlwt\n",
      "brain_pytest        logging             site                xml\n",
      "brain_qt            lxml                six                 xmlrpc\n",
      "brain_random        lzma                skimage             xxsubtype\n",
      "brain_re            macpath             sklearn             yaml\n",
      "brain_six           mailbox             smtpd               zict\n",
      "brain_ssl           mailcap             smtplib             zipapp\n",
      "brain_subprocess    markupsafe          sndhdr              zipfile\n",
      "brain_threading     marshal             snowballstemmer     zipimport\n",
      "brain_typing        math                socket              zipp\n",
      "brain_uuid          matplotlib          socketserver        zlib\n",
      "bs4                 mccabe              socks               zmq\n",
      "\n",
      "Enter any module name to get more help.  Or, type \"modules spam\" to search\n",
      "for modules whose name or summary contain the string \"spam\".\n",
      "\n",
      "None\n",
      "DEBUG:matplotlib.pyplot:Loaded backend module://ipykernel.pylab.backend_inline version unknown.\n"
     ]
    }
   ],
   "source": [
    "print(help(\"modules\"))"
   ]
  },
  {
   "cell_type": "markdown",
   "metadata": {},
   "source": [
    "### Os"
   ]
  },
  {
   "cell_type": "markdown",
   "metadata": {},
   "source": [
    "The module `os` allows for many **operating system tasks** with dozens of functions. For example, **files** and **directories** can be **localized**, **deleted** or **created**. \n",
    "\n",
    "Let us first **import** the **module**. "
   ]
  },
  {
   "cell_type": "code",
   "execution_count": 45,
   "metadata": {},
   "outputs": [],
   "source": [
    "import os"
   ]
  },
  {
   "cell_type": "markdown",
   "metadata": {},
   "source": [
    "To find out where Python works on your storage, and what its **working directory** is, you can use the function `os.getcwd()`.\n",
    "\n",
    "Let us find out the **path** of our **current working directory**."
   ]
  },
  {
   "cell_type": "code",
   "execution_count": 46,
   "metadata": {},
   "outputs": [
    {
     "name": "stdout",
     "output_type": "stream",
     "text": [
      "C:\\Users\\JohnDoe\\Documents\\GitHub\\python-block-course-2019-SebastianStaab\\2-modules\n"
     ]
    }
   ],
   "source": [
    "# define working directory\n",
    "work_dir  = os.getcwd()\n",
    "\n",
    "# print working directory\n",
    "print(work_dir)"
   ]
  },
  {
   "cell_type": "markdown",
   "metadata": {},
   "source": [
    "Next, we may be interested which **files** are in our **working directory**. This job can be done with the function `os.listdir()`. \n",
    "\n",
    "Let us see which **files** are in our **working directory**. "
   ]
  },
  {
   "cell_type": "code",
   "execution_count": null,
   "metadata": {},
   "outputs": [],
   "source": [
    "# define working directory\n",
    "work_dir  = os.getcwd()\n",
    "\n",
    "# define files in working directory\n",
    "work_files = os.listdir(work_dir)\n",
    "\n",
    "# print files in working directory\n",
    "print(work_files)"
   ]
  },
  {
   "cell_type": "markdown",
   "metadata": {},
   "source": [
    "You should see that one of the files is the Jupyter notebook you are currently working in, i.e. one of the files should be called *2-session.py*. \n",
    "\n",
    "Suppose we want to test in our code whether a certain **file exists** with a certain path. First, we would need to create a **valid path**, with the **absolute directory** and the **file name**, and join them together with the function `os.path.join()`. Second, we should check whether this **file exists** by its joined path using the function `os.path.exists()`. \n",
    "\n",
    "Let us try if we can **find** the **files** of todays session and assignment. "
   ]
  },
  {
   "cell_type": "code",
   "execution_count": 47,
   "metadata": {},
   "outputs": [
    {
     "name": "stdout",
     "output_type": "stream",
     "text": [
      "True\n"
     ]
    }
   ],
   "source": [
    "# define working directory\n",
    "work_dir  = os.getcwd()\n",
    "\n",
    "# define file of session\n",
    "session_file = os.path.join(work_dir, \"2-session.ipynb\")\n",
    "\n",
    "# check file of session\n",
    "print(os.path.exists(session_file))"
   ]
  },
  {
   "cell_type": "code",
   "execution_count": 48,
   "metadata": {},
   "outputs": [
    {
     "name": "stdout",
     "output_type": "stream",
     "text": [
      "False\n"
     ]
    }
   ],
   "source": [
    "# define working directory\n",
    "work_dir  = os.getcwd()\n",
    "\n",
    "# define file of assignment\n",
    "assignment_file = os.path.join(work_dir, \"2-assignment.ipynb\")\n",
    "\n",
    "# check file of assignment\n",
    "print(os.path.exists(assignment_file))"
   ]
  },
  {
   "cell_type": "markdown",
   "metadata": {},
   "source": [
    "### Random"
   ]
  },
  {
   "cell_type": "markdown",
   "metadata": {},
   "source": [
    "The module `random` implements a generator for **pseudo-random numbers**. Those can be used for instance to return a **random number** between 0 and 1, return random integer between certain range, make a **random pick** from a list and a **random shuffle** of a list. \n",
    "\n",
    "Let us first **import** the **module**."
   ]
  },
  {
   "cell_type": "code",
   "execution_count": 49,
   "metadata": {},
   "outputs": [],
   "source": [
    "import random"
   ]
  },
  {
   "cell_type": "markdown",
   "metadata": {},
   "source": [
    "As noted above, these numbers are only **pseudo-random**, because they are generated by default with the help of the **system time**. That means you will very very probably not get the same random number when you generate multiple numbers in a row. To make your code **deterministic**, you need to use a **function** `random.seed()` and give it an `Integer` or `String` as input. This seed is used to generate the next random number. All other drawn numbers are like a chain and build on the previous number. With the **function** `random.random()`, you can **draw numbers** in the **interval** of `[0,1)`.\n",
    "\n",
    "Let us first consider the **stochastic** and then the **deterministic** behavior of **random numbers** without and with a **seed**. "
   ]
  },
  {
   "cell_type": "code",
   "execution_count": 50,
   "metadata": {},
   "outputs": [
    {
     "name": "stdout",
     "output_type": "stream",
     "text": [
      "0.11368541106186603\n"
     ]
    }
   ],
   "source": [
    "# generate random number\n",
    "random_num = random.random()\n",
    "\n",
    "# print random number\n",
    "print(random_num)"
   ]
  },
  {
   "cell_type": "code",
   "execution_count": 51,
   "metadata": {},
   "outputs": [
    {
     "name": "stdout",
     "output_type": "stream",
     "text": [
      "0.8323024001314224\n"
     ]
    }
   ],
   "source": [
    "# seed \n",
    "random.seed(2019)\n",
    "\n",
    "# generate random number\n",
    "random_num = random.random()\n",
    "\n",
    "# print random number\n",
    "print(random_num)"
   ]
  },
  {
   "cell_type": "markdown",
   "metadata": {},
   "source": [
    "Obviously there are plenty more functions to draw numbers from other distributions too. A helpful function, especially for programming, is the **function** `random.randint()` which can be used to draw a **random integer** in an **interval** `[a,b]`. For example, if you need a **random index**, this function is very popular. \n",
    "\n",
    "Let us draw a **random integer** between 0 and 100."
   ]
  },
  {
   "cell_type": "code",
   "execution_count": 52,
   "metadata": {},
   "outputs": [
    {
     "name": "stdout",
     "output_type": "stream",
     "text": [
      "20\n"
     ]
    }
   ],
   "source": [
    "# seed \n",
    "random.seed(2019)\n",
    "\n",
    "# generate random integer\n",
    "random_num = random.randint(1,100)\n",
    "\n",
    "# print random integer\n",
    "print(random_num)"
   ]
  },
  {
   "cell_type": "markdown",
   "metadata": {},
   "source": [
    "Instead of drawing a random integer for an index, you can also directly draw a **random element** from a **sequence** with the **function** `random.choice()`. \n",
    "\n",
    "Let us try to draw a **random date** from a **list** of dates. "
   ]
  },
  {
   "cell_type": "code",
   "execution_count": 55,
   "metadata": {},
   "outputs": [
    {
     "name": "stdout",
     "output_type": "stream",
     "text": [
      "28/07/2016\n"
     ]
    }
   ],
   "source": [
    "# seed \n",
    "random.seed(2019)\n",
    "\n",
    "# define dates\n",
    "dates = [\"13/02/2017\", \"28/07/2016\", \"02/04/2013\", \"30/09/2018\", \"01/05/2018\"]\n",
    "\n",
    "# draw random date\n",
    "random_date = random.choice(dates)\n",
    "\n",
    "# print random date\n",
    "print(random_date)"
   ]
  },
  {
   "cell_type": "markdown",
   "metadata": {},
   "source": [
    "### Datetime"
   ]
  },
  {
   "cell_type": "markdown",
   "metadata": {},
   "source": [
    "The module `datetime` provides various functionalities to work with **dates** and **times**. It offers the possibility to read, create, modify and return dates in any **type of format**. \n",
    "\n",
    "Let us first **import** the **module**."
   ]
  },
  {
   "cell_type": "code",
   "execution_count": 56,
   "metadata": {},
   "outputs": [],
   "source": [
    "import datetime"
   ]
  },
  {
   "cell_type": "markdown",
   "metadata": {},
   "source": [
    "To get the **current date**, the **function** `datetime.datetime.now()` can be used. This date includes year, month, day, hour, minute, second and microsecond. \n",
    "\n",
    "Let us find out the **current date**."
   ]
  },
  {
   "cell_type": "code",
   "execution_count": 58,
   "metadata": {},
   "outputs": [
    {
     "name": "stdout",
     "output_type": "stream",
     "text": [
      "2019-10-15 12:06:06.106467\n"
     ]
    }
   ],
   "source": [
    "# define current date\n",
    "date_now = datetime.datetime.now()\n",
    "\n",
    "# print current date\n",
    "print(date_now)"
   ]
  },
  {
   "cell_type": "markdown",
   "metadata": {},
   "source": [
    "To create a **specific date** you can use the **function** `datetime.datetime()`. The function requires at least parameters for the year, month and day. Optionally, it also takes parameters for the hour, minute, second, microsecond and timezone. \n",
    "\n",
    "Let us create the **date** when the **course started**. "
   ]
  },
  {
   "cell_type": "code",
   "execution_count": 59,
   "metadata": {},
   "outputs": [
    {
     "name": "stdout",
     "output_type": "stream",
     "text": [
      "2019-10-14 00:00:00\n"
     ]
    }
   ],
   "source": [
    "# define date when course started\n",
    "date_start = datetime.datetime(2019, 10, 14)\n",
    "\n",
    "# print date when course started\n",
    "print(date_start)"
   ]
  },
  {
   "cell_type": "markdown",
   "metadata": {},
   "source": [
    "If you want to jump from a certain date to another date, and you know the **difference** between them, you can use the **function** `datetime.timedelta()` to generate a time difference. The function accepts differences in days, hours, minutes, seconds and milliseconds. \n",
    "\n",
    "Let us determine the date of the **second day** of the course from the first day."
   ]
  },
  {
   "cell_type": "code",
   "execution_count": 60,
   "metadata": {},
   "outputs": [
    {
     "name": "stdout",
     "output_type": "stream",
     "text": [
      "2019-10-15 00:00:00\n"
     ]
    }
   ],
   "source": [
    "# define date when course started\n",
    "date_start = datetime.datetime(2019, 10, 14)\n",
    "\n",
    "# define date delta\n",
    "date_day = datetime.timedelta(days = 1) \n",
    "\n",
    "# compute date when day 2\n",
    "date_second = date_start + date_day\n",
    "\n",
    "# print date when day 2\n",
    "print(date_second)"
   ]
  },
  {
   "cell_type": "markdown",
   "metadata": {},
   "source": [
    "The dates you have created so far are a certain data type, but to actually get a string from them you have to use the **method** `strftime()`. This method also allows you to specify in which **format** the **date** should be returned. For example, the date format `DD/MM/YYYY` is defined like `%d/%m/%Y`. But there are many other ways to build your own date format, like you can see in the [Python documentation](https://docs.python.org/3/library/datetime.html#strftime-and-strptime-behavior). \n",
    "\n",
    "Let us write the date of the **first day** as a **string**. "
   ]
  },
  {
   "cell_type": "code",
   "execution_count": 61,
   "metadata": {},
   "outputs": [
    {
     "name": "stdout",
     "output_type": "stream",
     "text": [
      "14/10/2019\n"
     ]
    }
   ],
   "source": [
    "# define date when day 1\n",
    "date_start = datetime.datetime(2019, 10, 14)\n",
    "\n",
    "# define date as string in specific format\n",
    "date_str = date_start.strftime(\"%d/%m/%Y\")\n",
    "\n",
    "# print date when day 1\n",
    "print(date_str)"
   ]
  },
  {
   "cell_type": "markdown",
   "metadata": {},
   "source": [
    "The other way around you can also **parse** a **string** in any date format as datetime object. For that, the function `datetime.datetime.strptime()` requires the **string** with the **date**, its corresponding **date format** and then returns the **date**. Like this you can perfom all steps shown so far and many others.\n",
    "\n",
    "Let us load the **date string** of the **first day** with **datetime**. "
   ]
  },
  {
   "cell_type": "code",
   "execution_count": 64,
   "metadata": {},
   "outputs": [
    {
     "name": "stdout",
     "output_type": "stream",
     "text": [
      "2019-10-14 00:00:00\n"
     ]
    }
   ],
   "source": [
    "# define date string\n",
    "date_str = \"14/10/2019\"\n",
    "\n",
    "# parse date string as date\n",
    "date_par = datetime.datetime.strptime(date_str, \"%d/%m/%Y\")\n",
    "\n",
    "# print parsed date\n",
    "print(date_par)"
   ]
  },
  {
   "cell_type": "markdown",
   "metadata": {},
   "source": [
    "<div class=\"alert alert-block alert-info\">\n",
    "    <b>Exercise</b>: Repeat the previous task where you wrote a function to sort a list of dates. This time use the datetime module to sort the list. Return the dates in the same date format again. \n",
    "</div>"
   ]
  },
  {
   "cell_type": "code",
   "execution_count": 77,
   "metadata": {},
   "outputs": [
    {
     "ename": "IndentationError",
     "evalue": "expected an indented block (<ipython-input-77-6f1b7f7700e0>, line 7)",
     "output_type": "error",
     "traceback": [
      "\u001b[1;36m  File \u001b[1;32m\"<ipython-input-77-6f1b7f7700e0>\"\u001b[1;36m, line \u001b[1;32m7\u001b[0m\n\u001b[1;33m    print(dates)\u001b[0m\n\u001b[1;37m        ^\u001b[0m\n\u001b[1;31mIndentationError\u001b[0m\u001b[1;31m:\u001b[0m expected an indented block\n"
     ]
    }
   ],
   "source": [
    "# define global variable\n",
    "dates = [\"13/02/2017\", \"28/07/2016\", \"02/04/2013\", \"30/09/2018\", \"01/05/2018\"]\n",
    "i=0\n",
    "dates = datetime.datetime.strptime(dates[i], \"%d/%m/%Y\")\n",
    "\n",
    "for i in range (5):\n",
    "print(dates)\n",
    "\n",
    "\n",
    "# define function\n",
    "def first_date(i):\n",
    "    # use global variable\n",
    "    global dates\n",
    "    \n",
    "    # sort dates\n",
    "    dates = datetime.datetime.strptime(dates[i], \"%d/%m/%Y\")\n",
    "    #sorted(dates, key=lambda x: x.split('/')[i], reverse= False) \n",
    "    \n",
    "    return dates\n",
    "\n",
    "# call function\n",
    "for i in range(5):\n",
    "    first_date(i)\n",
    "\n",
    "# print dates\n",
    "print(dates)"
   ]
  },
  {
   "cell_type": "code",
   "execution_count": null,
   "metadata": {},
   "outputs": [],
   "source": []
  },
  {
   "cell_type": "markdown",
   "metadata": {},
   "source": [
    "<div class=\"alert alert-block alert-info\">\n",
    "    <b>Exercise</b>: Write a function that generates a random date. Define two additional parameters which take strings with the earliest and latest date. The dates handed in and out of the function are strings in the format DD/MM/YYYY. Use the modules random and datetime.\n",
    "</div>"
   ]
  },
  {
   "cell_type": "code",
   "execution_count": null,
   "metadata": {},
   "outputs": [],
   "source": []
  },
  {
   "cell_type": "code",
   "execution_count": null,
   "metadata": {},
   "outputs": [],
   "source": []
  },
  {
   "cell_type": "markdown",
   "metadata": {},
   "source": [
    "### Re"
   ]
  },
  {
   "cell_type": "markdown",
   "metadata": {},
   "source": [
    "The module `re` allows us to work with **regular expressions**, which are **search patterns** for **strings**. These regular expressions can be arbitrarily complicated, also to find **complicated** and **varying character sequences**. If you have written a regular expression, you can check if such a string is inside another string and what it looks like. \n",
    "\n",
    "Let us first **import** the **module**."
   ]
  },
  {
   "cell_type": "code",
   "execution_count": 89,
   "metadata": {},
   "outputs": [],
   "source": [
    "import re"
   ]
  },
  {
   "cell_type": "markdown",
   "metadata": {},
   "source": [
    "First, we need to get an idea how to **write** a **regular expression**. In regular expressions some **characters** are reserved for a **specific meaning**, i.e. they are not matched with themselves but with **another meaning**. If you want to match a special character literally, you need to **escape** it with a **backslash** `\\`. We will only be able to discuss the simplest characters here. A few of these characteres are listed in the table below. \n",
    "\n",
    "| Character | Description |\n",
    "| -------- | ------- |\n",
    "| `.` | any character |\n",
    "| `^` | starts with |\n",
    "| `$` | ends with |\n",
    "| `[]` | set of characters |\n",
    "| `\\|` | either or |\n",
    "| `*` | zero or more occurrences |\n",
    "| `+` | one or more occurrences |\n",
    "| `\\d` | digit |\n",
    "| `\\D` | no digit |\n",
    "| `\\w` | word character |\n",
    "| `\\W` | no word character |\n",
    "| `\\s` | whitespace character |\n",
    "| `\\S` | no whitespace character |\n",
    "\n",
    "Suppose we want to check whether strings have a certain **date format**. For that, we want to write a suitable **regular expression**. We want the dates to be in the **format** `DD/MM/YYYY`. \n",
    "\n",
    "Let us check with a **regular expression** whether the correct date format is found. To **match** a string with a regular expression, we use the **function** `re.match()`. "
   ]
  },
  {
   "cell_type": "code",
   "execution_count": 90,
   "metadata": {},
   "outputs": [
    {
     "name": "stdout",
     "output_type": "stream",
     "text": [
      "<re.Match object; span=(0, 10), match='14/10/2019'>\n"
     ]
    }
   ],
   "source": [
    "# define date string in correct format\n",
    "date_str = \"14/10/2019\"\n",
    "\n",
    "# write regular expression\n",
    "reg_ex = \"^\\d\\d\\/\\d\\d\\/\\d\\d\\d\\d$\"\n",
    "\n",
    "# search with regular expression\n",
    "reg_match = re.match(reg_ex, date_str)\n",
    "\n",
    "# print whether match\n",
    "print(reg_match)"
   ]
  },
  {
   "cell_type": "code",
   "execution_count": 93,
   "metadata": {},
   "outputs": [
    {
     "name": "stdout",
     "output_type": "stream",
     "text": [
      "None\n"
     ]
    }
   ],
   "source": [
    "# define date string in wrong format\n",
    "date_str = \"14-10-19\"\n",
    "\n",
    "# write regular expression\n",
    "reg_ex = \"^\\d\\d\\.\\d\\d\\.\\d\\d$\"\n",
    "\n",
    "# search with regular expression\n",
    "reg_match = re.match(reg_ex, date_str)\n",
    "\n",
    "# print whether match\n",
    "print(reg_match)"
   ]
  },
  {
   "cell_type": "markdown",
   "metadata": {},
   "source": [
    "### Csv"
   ]
  },
  {
   "cell_type": "markdown",
   "metadata": {},
   "source": [
    "The **module** `csv` provides functionalities to **read** and **write** to **CSV files**. This way you can conveniently get informationen **into** and **out** of your **program**. In CSV files you can find tabular data as **c**omma-**s**eparated **v**alues. Each line is a data record. And each record has one or more fields which are comma separated. \n",
    "\n",
    "Let us first **import** the **module**."
   ]
  },
  {
   "cell_type": "code",
   "execution_count": 82,
   "metadata": {},
   "outputs": [],
   "source": [
    "import csv"
   ]
  },
  {
   "cell_type": "markdown",
   "metadata": {},
   "source": [
    "Suppose we have calculated results in our code which we want to save now. For this, we want to use a CSV file. Therefore, we have to open a CSV file first, where we will write later. The most common way to **open** a **file** is to open it in a `with` **block** with the **function** `open()` given a certain **variable name**. Inside the `with` block you can access the opened file with the variable name. Next, you create a **writer** like `csv.writer()` who will write your information into the respective file. There you can also specify in which **format** you want to write your CSV file. Once the writer is created, you can use its **method** `writerow()` to **write** a **sequence of information** into the file. \n",
    "\n",
    "Let us try to **write** some **test data** into a CSV file. "
   ]
  },
  {
   "cell_type": "code",
   "execution_count": 83,
   "metadata": {},
   "outputs": [],
   "source": [
    "# open file\n",
    "with open(file=\"test.csv\", mode=\"w\") as csv_file:\n",
    "    # create writer\n",
    "    writer = csv.writer(csv_file, delimiter=',')\n",
    "    \n",
    "    # witer row with header\n",
    "    writer.writerow([\"number1\", \"number2\", \"number3\", \"number4\", \"number5\"])\n",
    "    \n",
    "    # write row with zeros\n",
    "    writer.writerow([0,0,0,0,0])\n",
    "    \n",
    "    # write row with random numbers and list comprehension\n",
    "    writer.writerow([random.random() for i in range(5)])"
   ]
  },
  {
   "cell_type": "markdown",
   "metadata": {},
   "source": [
    "You can also **load data** from a CSV file in the same way. In principle, this works exactly the same, except that the file is now opened in **read mode** `r` and a **reader** is created like `csv.reader()`. Then you can get the rows of the CSV file as a **sequence** from the **reader**, e.g. with a `for` loop. \n",
    "\n",
    "Let us try to **read** our **test data** from the CSV file again. "
   ]
  },
  {
   "cell_type": "code",
   "execution_count": 84,
   "metadata": {},
   "outputs": [
    {
     "name": "stdout",
     "output_type": "stream",
     "text": [
      "['number1', 'number2', 'number3', 'number4', 'number5']\n",
      "[]\n",
      "['0', '0', '0', '0', '0']\n",
      "[]\n",
      "['0.7889290619064494', '0.9385678954207153', '0.16059637997392429', '0.6488539744120456', '0.8325765404421139']\n",
      "[]\n"
     ]
    }
   ],
   "source": [
    "# open file\n",
    "with open(file=\"test.csv\", mode=\"r\") as csv_file:\n",
    "    # create reader\n",
    "    csv_reader = csv.reader(csv_file, delimiter=',')\n",
    "    \n",
    "    # iterate over rows in file\n",
    "    for row in csv_reader:\n",
    "        # print row\n",
    "        print(row)"
   ]
  },
  {
   "cell_type": "markdown",
   "metadata": {},
   "source": [
    "<div class=\"alert alert-block alert-info\">\n",
    "    <b>Exercise</b>: Download the table available <a href=\"https://raw.githubusercontent.com/therbootcamp/BaselRBootcamp_2018July/master/_sessions/_data/baselrbootcamp_data/%5EGDAXI.csv\">here</a>. Import the data as nested list. Use the module csv. Inspect the data. \n",
    "</div>"
   ]
  },
  {
   "cell_type": "code",
   "execution_count": null,
   "metadata": {},
   "outputs": [],
   "source": []
  },
  {
   "cell_type": "code",
   "execution_count": null,
   "metadata": {},
   "outputs": [],
   "source": []
  }
 ],
 "metadata": {
  "kernelspec": {
   "display_name": "Python 3",
   "language": "python",
   "name": "python3"
  },
  "language_info": {
   "codemirror_mode": {
    "name": "ipython",
    "version": 3
   },
   "file_extension": ".py",
   "mimetype": "text/x-python",
   "name": "python",
   "nbconvert_exporter": "python",
   "pygments_lexer": "ipython3",
   "version": "3.8.3"
  }
 },
 "nbformat": 4,
 "nbformat_minor": 4
}
