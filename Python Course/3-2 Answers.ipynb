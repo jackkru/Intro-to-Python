{
 "cells": [
  {
   "cell_type": "markdown",
   "metadata": {},
   "source": [
    "# Einführung in das Programmieren mit Python\n",
    "# Session 3-2: Modules"
   ]
  },
  {
   "cell_type": "markdown",
   "metadata": {},
   "source": [
    "Jack Krüger, Sebastian Staab  \n",
    "SS 21\n",
    "\n",
    "In this session we will learn for (simple) applications how to write our own Python code. At the same time we also learn how **built-in modules** support us and how we make the most out of them. "
   ]
  },
  {
   "cell_type": "markdown",
   "metadata": {},
   "source": [
    "## 3.4 Built-In Modules"
   ]
  },
  {
   "cell_type": "markdown",
   "metadata": {},
   "source": [
    "We already looked at some built-in functions last week. But there are many more functions available in Python. All you have to do is **import modules** in which more **functions**, **classes** and **variables** are included. Each of these modules provides functionalities in a certain category. These built-in modules can be imported directly without the need to install them. \n",
    "\n",
    "The **syntax** for **importing** a **module** looks as follows. This statement is executed at the beginning of code so that all its functionalities are available in the actual code later.\n",
    "\n",
    "```python\n",
    "import module\n",
    "```\n",
    "\n",
    "We will discuss a few of these **modules** and have a **quick look** at some **use cases** soon. Here is a first **overview** of these **modules**:\n",
    "\n",
    "| Module | Description |\n",
    "| -------- | ------- |\n",
    "| `os` | Miscellaneous operating system interfaces |\n",
    "| `random` | Generate pseudo-random numbers |\n",
    "| `datetime` | Basic date and time types |\n",
    "| `re` | Regular expression operations |\n",
    "| `csv` | Read and write tabular data in CSV format |\n",
    "\n",
    "To get a **complete list** of all modules, you can use the function `help()` and search for modules. "
   ]
  },
  {
   "cell_type": "code",
   "execution_count": 1,
   "metadata": {},
   "outputs": [
    {
     "name": "stdout",
     "output_type": "stream",
     "text": [
      "\n",
      "Please wait a moment while I gather a list of all available modules...\n",
      "\n"
     ]
    },
    {
     "name": "stderr",
     "output_type": "stream",
     "text": [
      "C:\\Users\\Jack\\anaconda3\\lib\\site-packages\\IPython\\kernel\\__init__.py:12: ShimWarning: The `IPython.kernel` package has been deprecated since IPython 4.0.You should import from ipykernel or jupyter_client instead.\n",
      "  warn(\"The `IPython.kernel` package has been deprecated since IPython 4.0.\"\n",
      "C:\\Users\\Jack\\anaconda3\\lib\\site-packages\\sklearn\\utils\\deprecation.py:143: FutureWarning: The sklearn.metrics.scorer module is  deprecated in version 0.22 and will be removed in version 0.24. The corresponding classes / functions should instead be imported from sklearn.metrics. Anything that cannot be imported from sklearn.metrics is now part of the private API.\n",
      "  warnings.warn(message, FutureWarning)\n",
      "C:\\Users\\Jack\\anaconda3\\lib\\site-packages\\sklearn\\utils\\deprecation.py:143: FutureWarning: The sklearn.feature_selection.base module is  deprecated in version 0.22 and will be removed in version 0.24. The corresponding classes / functions should instead be imported from sklearn.feature_selection. Anything that cannot be imported from sklearn.feature_selection is now part of the private API.\n",
      "  warnings.warn(message, FutureWarning)\n",
      "C:\\Users\\Jack\\anaconda3\\lib\\site-packages\\gensim\\similarities\\__init__.py:15: UserWarning: The gensim.similarities.levenshtein submodule is disabled, because the optional Levenshtein package <https://pypi.org/project/python-Levenshtein/> is unavailable. Install Levenhstein (e.g. `pip install python-Levenshtein`) to suppress this warning.\n",
      "  warnings.warn(msg)\n",
      "C:\\Users\\Jack\\anaconda3\\lib\\site-packages\\skimage\\viewer\\utils\\__init__.py:1: UserWarning:\n",
      "\n",
      "Recommended matplotlib backend is `Agg` for full skimage.viewer functionality.\n",
      "\n"
     ]
    },
    {
     "name": "stdout",
     "output_type": "stream",
     "text": [
      "Update LANGUAGE_CODES (inside config/base.py) if a new translation has been added to Spyder\n"
     ]
    },
    {
     "name": "stderr",
     "output_type": "stream",
     "text": [
      "C:\\Users\\Jack\\anaconda3\\lib\\site-packages\\qtawesome\\iconic_font.py:312: UserWarning:\n",
      "\n",
      "You need to have a running QApplication to use QtAwesome!\n",
      "\n",
      "C:\\Users\\Jack\\anaconda3\\lib\\site-packages\\sklearn\\utils\\deprecation.py:143: FutureWarning:\n",
      "\n",
      "The sklearn.metrics.classification module is  deprecated in version 0.22 and will be removed in version 0.24. The corresponding classes / functions should instead be imported from sklearn.metrics. Anything that cannot be imported from sklearn.metrics is now part of the private API.\n",
      "\n",
      "C:\\Users\\Jack\\anaconda3\\lib\\pkgutil.py:107: VisibleDeprecationWarning:\n",
      "\n",
      "zmq.eventloop.minitornado is deprecated in pyzmq 14.0 and will be removed.\n",
      "    Install tornado itself to use zmq with the tornado IOLoop.\n",
      "    \n",
      "\n"
     ]
    },
    {
     "name": "stdout",
     "output_type": "stream",
     "text": [
      "Cython              calendar            mkl_fft             spacy_legacy\n",
      "GetOldTweets3       catalogue           mkl_random          sphinx\n",
      "IPython             certifi             mmap                sphinxcontrib\n",
      "OpenSSL             cffi                mmapfile            spyder\n",
      "PIL                 cgi                 mmsystem            spyder_kernels\n",
      "PyQt5               cgitb               mock                sqlalchemy\n",
      "__future__          chardet             modulefinder        sqlite3\n",
      "_abc                chromedriver_py     more_itertools      sre_compile\n",
      "_ast                chunk               mpmath              sre_constants\n",
      "_asyncio            click               msgpack             sre_parse\n",
      "_bisect             cloudpickle         msilib              srsly\n",
      "_blake2             clyent              msvcrt              ssl\n",
      "_bootlocale         cmath               multidict           sspi\n",
      "_bz2                cmd                 multipledispatch    sspicon\n",
      "_cffi_backend       code                multiprocessing     stat\n",
      "_codecs             codecs              multitasking        statistics\n",
      "_codecs_cn          codeop              murmurhash          statsmodels\n",
      "_codecs_hk          collections         nacl                storemagic\n",
      "_codecs_iso2022     colorama            navigator_updater   string\n",
      "_codecs_jp          colorsys            nbconvert           stringprep\n",
      "_codecs_kr          commctrl            nbformat            struct\n",
      "_codecs_tw          compileall          netbios             subprocess\n",
      "_collections        comtypes            netrc               sunau\n",
      "_collections_abc    concurrent          networkx            symbol\n",
      "_compat_pickle      conda               neurolab            sympy\n",
      "_compression        conda_build         nltk                sympyprinting\n",
      "_contextvars        conda_env           nntplib             symtable\n",
      "_csv                conda_package_handling nose                sys\n",
      "_ctypes             conda_verify        notebook            sysconfig\n",
      "_ctypes_test        configparser        nt                  tables\n",
      "_datetime           contextlib          ntpath              tabnanny\n",
      "_decimal            contextlib2         ntsecuritycon       tabulate\n",
      "_distutils_hack     contextvars         nturl2path          tarfile\n",
      "_dummy_thread       copy                numba               tblib\n",
      "_elementtree        copyreg             numbers             telnetlib\n",
      "_functools          crypt               numexpr             tempfile\n",
      "_hashlib            cryptography        numpy               tensorboard\n",
      "_heapq              cssselect           numpydoc            tensorboard_plugin_wit\n",
      "_imp                csv                 oauthlib            tensorflow\n",
      "_io                 ctypes              odbc                tensorflow_estimator\n",
      "_json               curl                olefile             tensorflow_hub\n",
      "_locale             curses              opcode              termcolor\n",
      "_lsprof             cwp                 openpyxl            terminado\n",
      "_lzma               cycler              operator            test\n",
      "_markupbase         cymem               opt_einsum          test_data\n",
      "_md5                cython              optparse            test_pycosat\n",
      "_msi                cythonmagic         os                  testpath\n",
      "_multibytecodec     cytoolz             packaging           tests\n",
      "_multiprocessing    dask                pandas              text_unidecode\n",
      "_nsis               dataclasses         pandas_market_calendars texthero\n",
      "_opcode             datetime            pandocfilters       textwrap\n",
      "_operator           dateutil            paramiko            thinc\n",
      "_osx_support        dbi                 parse               this\n",
      "_overlapped         dbm                 parser              threading\n",
      "_pickle             dde                 parso               threadpoolctl\n",
      "_plotly_future_     decimal             partd               time\n",
      "_plotly_utils       decorator           past                timeit\n",
      "_py_abc             defusedxml          pasta               timer\n",
      "_pydecimal          diff_match_patch    path                tkinter\n",
      "_pyio               difflib             pathlib             tlz\n",
      "_pyrsistent_version dis                 pathlib2            token\n",
      "_pytest             distributed         pathtools           tokenize\n",
      "_queue              distutils           pathy               tokenizers\n",
      "_random             docopt              patsy               toml\n",
      "_sha1               docs                pdb                 toolz\n",
      "_sha256             doctest             pdpbox              tornado\n",
      "_sha3               docutils            pep8                tqdm\n",
      "_sha512             dummy_threading     perfmon             trace\n",
      "_signal             easy_install        pexpect             traceback\n",
      "_sitebuiltins       efficientnet        pickle              tracemalloc\n",
      "_socket             eli5                pickleshare         trading_calendars\n",
      "_sqlite3            email               pickletools         traitlets\n",
      "_sre                en_core_web_sm      pip                 transformers\n",
      "_ssl                encodings           pipes               tty\n",
      "_stat               ensurepip           pkg_resources       turtle\n",
      "_statistics         entrypoints         pkginfo             turtledemo\n",
      "_string             enum                pkgutil             tweepy\n",
      "_strptime           errno               platform            twilio\n",
      "_struct             et_xmlfile          plistlib            twython\n",
      "_symtable           fake_useragent      plotly              typer\n",
      "_system_path        fastcache           plotlywidget        types\n",
      "_testbuffer         faulthandler        pluggy              typing\n",
      "_testcapi           feedparser          ply                 typing_extensions\n",
      "_testconsole        filecmp             poplib              ujson\n",
      "_testimportmultiple fileinput           posixpath           unicodecsv\n",
      "_testinternalcapi   filelock            pprint              unicodedata\n",
      "_testmultiphase     finnhub             preshed             unidecode\n",
      "_thread             flake8              profile             unittest\n",
      "_threading_local    flask               prometheus_client   uritemplate\n",
      "_tkinter            fnmatch             prompt_toolkit      urllib\n",
      "_tracemalloc        formatter           pstats              urllib3\n",
      "_warnings           fractions           psutil              uu\n",
      "_weakref            fsspec              pty                 uuid\n",
      "_weakrefset         ftplib              pvectorc            venv\n",
      "_win32sysloader     functools           py                  w3lib\n",
      "_winapi             future              py_compile          warnings\n",
      "_winxptheme         gast                pyasn1              wasabi\n",
      "_xxsubinterpreters  gc                  pyasn1_modules      watchdog\n",
      "_yaml               genericpath         pyclbr              wave\n",
      "abc                 gensim              pycodestyle         wcwidth\n",
      "absl                get-pip             pycosat             weakref\n",
      "adodbapi            getopt              pycparser           webbrowser\n",
      "afxres              getpass             pycurl              webencodings\n",
      "aifc                gettext             pydantic            websockets\n",
      "aiohttp             gevent              pydoc               werkzeug\n",
      "alabaster           gitsome             pydoc_data          wheel\n",
      "alpha_vantage       glob                pydocstyle          widgetsnbextension\n",
      "anaconda_navigator  glob2               pyee                win2kras\n",
      "anaconda_project    gmpy2               pyexpat             win32_setctime\n",
      "antigravity         google_auth_oauthlib pyflakes            win32api\n",
      "appdirs             graphviz            pygments            win32clipboard\n",
      "argh                greenlet            pylab               win32com\n",
      "argparse            grpc                pylint              win32con\n",
      "array               gzip                pyls                win32console\n",
      "asn1crypto          h5py                pyls_jsonrpc        win32cred\n",
      "ast                 hashlib             pyodbc              win32crypt\n",
      "astroid             heapdict            pyparsing           win32cryptcon\n",
      "astropy             heapq               pyppeteer           win32ctypes\n",
      "astunparse          hmac                pyquery             win32event\n",
      "async_timeout       html                pyreadline          win32evtlog\n",
      "asynchat            html5lib            pyrsistent          win32evtlogutil\n",
      "asyncio             http                pytest              win32file\n",
      "asyncore            hyperas             pythoncom           win32gui\n",
      "atexit              hyperopt            pytz                win32gui_struct\n",
      "atomicwrites        idlelib             pywin               win32help\n",
      "attr                idna                pywin32_bootstrap   win32inet\n",
      "audioop             imageio             pywin32_testutil    win32inetcon\n",
      "autopep8            imagesize           pywintypes          win32job\n",
      "autoreload          imaplib             pywt                win32lz\n",
      "babel               imghdr              pyximport           win32net\n",
      "backcall            imp                 qdarkstyle          win32netcon\n",
      "backports           importlib           qtawesome           win32pdh\n",
      "base64              importlib_metadata  qtconsole           win32pdhquery\n",
      "bcrypt              inspect             qtpy                win32pdhutil\n",
      "bdb                 intervaltree        queue               win32pipe\n",
      "binarytree          io                  quopri              win32print\n",
      "binascii            ipaddress           random              win32process\n",
      "binhex              ipykernel           rasutil             win32profile\n",
      "binstar_client      ipykernel_launcher  re                  win32ras\n",
      "bisect              ipython_genutils    readline            win32rcparser\n",
      "bitarray            ipywidgets          regcheck            win32security\n",
      "bkcharts            isapi               regex               win32service\n",
      "bleach              isort               regutil             win32serviceutil\n",
      "blis                isympy              reprlib             win32timezone\n",
      "bokeh               itertools           requests            win32trace\n",
      "boto                itsdangerous        requests_html       win32traceutil\n",
      "bottleneck          jdcal               requests_oauthlib   win32transaction\n",
      "bracketeer          jedi                retrying            win32ts\n",
      "brain_argparse      jinja2              rlcompleter         win32ui\n",
      "brain_attrs         joblib              rmagic              win32uiole\n",
      "brain_boto3         json                rope                win32verstamp\n",
      "brain_builtin_inference json5               rsa                 win32wnet\n",
      "brain_collections   jsonschema          rtree               win_inet_pton\n",
      "brain_crypt         jupyter             ruamel_yaml         win_unicode_console\n",
      "brain_curses        jupyter_client      run                 wincertstore\n",
      "brain_dataclasses   jupyter_console     runpy               winerror\n",
      "brain_dateutil      jupyter_core        sacremoses          winioctlcon\n",
      "brain_fstrings      jupyterlab          sched               winnt\n",
      "brain_functools     jupyterlab_server   scipy               winperf\n",
      "brain_gi            jwt                 scripts             winpty\n",
      "brain_hashlib       kaggle              seaborn             winreg\n",
      "brain_http          keras               secrets             winsound\n",
      "brain_io            keras_applications  select              winxpgui\n",
      "brain_mechanize     keras_preprocessing selectors           winxptheme\n",
      "brain_multiprocessing keyring             send2trash          wordcloud\n",
      "brain_namedtuple_enum keyword             servicemanager      wrapt\n",
      "brain_nose          kiwisolver          setuptools          wsgiref\n",
      "brain_numpy_core_fromnumeric lazy_object_proxy   shelve              xdrlib\n",
      "brain_numpy_core_function_base lib2to3             shlex               xlrd\n",
      "brain_numpy_core_multiarray libarchive          shutil              xlsxwriter\n",
      "brain_numpy_core_numeric libfuturize         signal              xlwings\n",
      "brain_numpy_core_numerictypes libpasteurize       simplegeneric       xlwt\n",
      "brain_numpy_core_umath lief                singledispatch      xml\n",
      "brain_numpy_ndarray lightgbm            singledispatch_helpers xmlrpc\n",
      "brain_numpy_random_mtrand linecache           sip                 xmltodict\n",
      "brain_numpy_utils   llvmlite            sipconfig           xonsh\n",
      "brain_pkg_resources locale              sipdistutils        xxsubtype\n",
      "brain_pytest        locket              site                yahoo_fin\n",
      "brain_qt            logging             six                 yaml\n",
      "brain_random        loguru              skimage             yapf\n",
      "brain_re            lxml                sklearn             yapftests\n",
      "brain_responses     lzma                slugify             yarl\n",
      "brain_scipy_signal  mailbox             smart_open          yellowbrick\n",
      "brain_six           mailcap             smtpd               yfinance\n",
      "brain_ssl           markdown            smtplib             zict\n",
      "brain_subprocess    markupsafe          sndhdr              zipapp\n",
      "brain_threading     marshal             snowballstemmer     zipfile\n",
      "brain_typing        math                socket              zipimport\n",
      "brain_uuid          matplotlib          socketserver        zipp\n",
      "brotli              mccabe              socks               zlib\n",
      "bs4                 menuinst            sockshandler        zmq\n",
      "builtins            mglearn             sortedcollections   zope\n",
      "bz2                 mimetypes           sortedcontainers    ~andas\n",
      "cProfile            mistune             soupsieve           ~cipy\n",
      "cachetools          mkl                 spacy               \n",
      "\n",
      "Enter any module name to get more help.  Or, type \"modules spam\" to search\n",
      "for modules whose name or summary contain the string \"spam\".\n",
      "\n",
      "None\n"
     ]
    }
   ],
   "source": [
    "print(help(\"modules\"))"
   ]
  },
  {
   "cell_type": "markdown",
   "metadata": {},
   "source": [
    "### Os"
   ]
  },
  {
   "cell_type": "code",
   "execution_count": 10,
   "metadata": {},
   "outputs": [],
   "source": [
    "import pyppeteer "
   ]
  },
  {
   "cell_type": "markdown",
   "metadata": {},
   "source": [
    "The module `os` allows for many **operating system tasks** with dozens of functions. For example, **files** and **directories** can be **localized**, **deleted** or **created**. \n",
    "\n",
    "Let us first **import** the **module**. "
   ]
  },
  {
   "cell_type": "code",
   "execution_count": 1,
   "metadata": {},
   "outputs": [],
   "source": [
    "import os"
   ]
  },
  {
   "cell_type": "markdown",
   "metadata": {},
   "source": [
    "To find out where Python works on your storage, and what its **working directory** is, you can use the function `os.getcwd()`.\n",
    "\n",
    "Let us find out the **path** of our **current working directory**."
   ]
  },
  {
   "cell_type": "code",
   "execution_count": 2,
   "metadata": {},
   "outputs": [
    {
     "name": "stdout",
     "output_type": "stream",
     "text": [
      "C:\\Users\\Jack\\Python Course\n"
     ]
    }
   ],
   "source": [
    "# define working directory\n",
    "work_dir  = os.getcwd()\n",
    "\n",
    "# print working directory\n",
    "print(work_dir)"
   ]
  },
  {
   "cell_type": "markdown",
   "metadata": {},
   "source": [
    "Next, we may be interested which **files** are in our **working directory**. This job can be done with the function `os.listdir()`. \n",
    "\n",
    "Let us see which **files** are in our **working directory**. "
   ]
  },
  {
   "cell_type": "code",
   "execution_count": 3,
   "metadata": {},
   "outputs": [
    {
     "name": "stdout",
     "output_type": "stream",
     "text": [
      "['.ipynb_checkpoints', '1-2 Answers.ipynb', '1-2.ipynb', '2-1 Answers.ipynb', '2-1.ipynb', '2-2.ipynb', '2-session.ipynb', '3-2 (1).ipynb', '3-2 Answers.ipynb', '3-2.ipynb', '4-1 Answers.ipynb', '4-1.ipynb', 'CASchools.csv', 'Downloads', 'flights.csv', 'Python Project Answers.ipynb', 'Python Project.ipynb', 'test.csv']\n"
     ]
    }
   ],
   "source": [
    "# define working directory\n",
    "work_dir  = os.getcwd()\n",
    "\n",
    "# define files in working directory\n",
    "work_files = os.listdir(work_dir)\n",
    "\n",
    "# print files in working directory\n",
    "print(work_files)"
   ]
  },
  {
   "cell_type": "markdown",
   "metadata": {},
   "source": [
    "You should see that one of the files is the Jupyter notebook you are currently working in, i.e. one of the files should be called *3-1.ipynb*. \n",
    "\n",
    "Suppose we want to test in our code whether a certain **file exists** with a certain path. First, we would need to create a **valid path**, with the **absolute directory** and the **file name**, and join them together with the function `os.path.join()`. Second, we should check whether this **file exists** by its joined path using the function `os.path.exists()`. \n",
    "\n",
    "Let us try if we can **find** the **files** of todays session and assignment. "
   ]
  },
  {
   "cell_type": "code",
   "execution_count": 5,
   "metadata": {},
   "outputs": [
    {
     "name": "stdout",
     "output_type": "stream",
     "text": [
      "True\n"
     ]
    }
   ],
   "source": [
    "# define working directory\n",
    "work_dir  = os.getcwd()\n",
    "\n",
    "# define file of session\n",
    "session_file = os.path.join(work_dir, \"3-2.ipynb\")\n",
    "\n",
    "# check file of session\n",
    "print(os.path.exists(session_file))"
   ]
  },
  {
   "cell_type": "code",
   "execution_count": 6,
   "metadata": {},
   "outputs": [
    {
     "name": "stdout",
     "output_type": "stream",
     "text": [
      "True\n"
     ]
    }
   ],
   "source": [
    "# define working directory\n",
    "work_dir  = os.getcwd()\n",
    "\n",
    "# define file of assignment\n",
    "second_file = os.path.join(work_dir, \"3-2.ipynb\")\n",
    "\n",
    "# check file of assignment\n",
    "print(os.path.exists(second_file))"
   ]
  },
  {
   "cell_type": "markdown",
   "metadata": {},
   "source": [
    "### Random"
   ]
  },
  {
   "cell_type": "markdown",
   "metadata": {},
   "source": [
    "The module `random` implements a generator for **pseudo-random numbers**. Those can be used for instance to return a **random number** between 0 and 1, return random integer between certain range, make a **random pick** from a list and a **random shuffle** of a list. \n",
    "\n",
    "Let us first **import** the **module**."
   ]
  },
  {
   "cell_type": "code",
   "execution_count": 7,
   "metadata": {},
   "outputs": [],
   "source": [
    "import random"
   ]
  },
  {
   "cell_type": "markdown",
   "metadata": {},
   "source": [
    "As noted above, these numbers are only **pseudo-random**, because they are generated by default with the help of the **system time**. That means you will very very probably not get the same random number when you generate multiple numbers in a row. To make your code **deterministic**, you need to use a **function** `random.seed()` and give it an `Integer` or `String` as input. This seed is used to generate the next random number. All other drawn numbers are like a chain and build on the previous number. With the **function** `random.random()`, you can **draw numbers** in the **interval** of `[0,1)`.\n",
    "\n",
    "Let us first consider the **stochastic** and then the **deterministic** behavior of **random numbers** without and with a **seed**. "
   ]
  },
  {
   "cell_type": "code",
   "execution_count": 8,
   "metadata": {},
   "outputs": [
    {
     "name": "stdout",
     "output_type": "stream",
     "text": [
      "0.9450382830261884\n"
     ]
    }
   ],
   "source": [
    "# generate random number\n",
    "random_num = random.random()\n",
    "\n",
    "# print random number\n",
    "print(random_num)"
   ]
  },
  {
   "cell_type": "code",
   "execution_count": 9,
   "metadata": {},
   "outputs": [
    {
     "name": "stdout",
     "output_type": "stream",
     "text": [
      "0.8323024001314224\n"
     ]
    }
   ],
   "source": [
    "# seed \n",
    "random.seed(2019)\n",
    "\n",
    "# generate random number\n",
    "random_num = random.random()\n",
    "\n",
    "# print random number\n",
    "print(random_num)"
   ]
  },
  {
   "cell_type": "markdown",
   "metadata": {},
   "source": [
    "Obviously there are plenty more functions to draw numbers from other distributions too. A helpful function, especially for programming, is the **function** `random.randint()` which can be used to draw a **random integer** in an **interval** `[a,b]`. For example, if you need a **random index**, this function is very popular. \n",
    "\n",
    "Let us draw a **random integer** between 0 and 100."
   ]
  },
  {
   "cell_type": "code",
   "execution_count": 10,
   "metadata": {},
   "outputs": [
    {
     "name": "stdout",
     "output_type": "stream",
     "text": [
      "20\n"
     ]
    }
   ],
   "source": [
    "# seed \n",
    "random.seed(2019)\n",
    "\n",
    "# generate random integer\n",
    "random_num = random.randint(1,100)\n",
    "\n",
    "# print random integer\n",
    "print(random_num)"
   ]
  },
  {
   "cell_type": "markdown",
   "metadata": {},
   "source": [
    "Instead of drawing a random integer for an index, you can also directly draw a **random element** from a **sequence** with the **function** `random.choice()`. \n",
    "\n",
    "Let us try to draw a **random date** from a **list** of dates. "
   ]
  },
  {
   "cell_type": "code",
   "execution_count": 11,
   "metadata": {},
   "outputs": [
    {
     "name": "stdout",
     "output_type": "stream",
     "text": [
      "28/07/2016\n"
     ]
    }
   ],
   "source": [
    "# seed \n",
    "random.seed(2019)\n",
    "\n",
    "# define dates\n",
    "dates = [\"13/02/2017\", \"28/07/2016\", \"02/04/2013\", \"30/09/2018\", \"01/05/2018\"]\n",
    "\n",
    "# draw random date\n",
    "random_date = random.choice(dates)\n",
    "\n",
    "# print random date\n",
    "print(random_date)"
   ]
  },
  {
   "cell_type": "markdown",
   "metadata": {},
   "source": [
    "### Datetime"
   ]
  },
  {
   "cell_type": "markdown",
   "metadata": {},
   "source": [
    "The module `datetime` provides various functionalities to work with **dates** and **times**. It offers the possibility to read, create, modify and return dates in any **type of format**. \n",
    "\n",
    "Let us first **import** the **module**."
   ]
  },
  {
   "cell_type": "code",
   "execution_count": 12,
   "metadata": {},
   "outputs": [],
   "source": [
    "import datetime"
   ]
  },
  {
   "cell_type": "markdown",
   "metadata": {},
   "source": [
    "To get the **current date**, the **function** `datetime.datetime.now()` can be used. This date includes year, month, day, hour, minute, second and microsecond. \n",
    "\n",
    "Let us find out the **current date**."
   ]
  },
  {
   "cell_type": "code",
   "execution_count": 13,
   "metadata": {},
   "outputs": [
    {
     "name": "stdout",
     "output_type": "stream",
     "text": [
      "2021-05-06 18:51:28.371345\n"
     ]
    }
   ],
   "source": [
    "# define current date\n",
    "date_now = datetime.datetime.now()\n",
    "\n",
    "# print current date\n",
    "print(date_now)"
   ]
  },
  {
   "cell_type": "markdown",
   "metadata": {},
   "source": [
    "To create a **specific date** you can use the **function** `datetime.datetime()`. The function requires at least parameters for the year, month and day. Optionally, it also takes parameters for the hour, minute, second, microsecond and timezone. \n",
    "\n",
    "Let us create the **date** when the **course started**. "
   ]
  },
  {
   "cell_type": "code",
   "execution_count": 14,
   "metadata": {},
   "outputs": [
    {
     "name": "stdout",
     "output_type": "stream",
     "text": [
      "2021-02-12 00:00:00\n"
     ]
    }
   ],
   "source": [
    "# define date when course started\n",
    "date_start = datetime.datetime(2021, 2, 12)\n",
    "\n",
    "# print date when course started\n",
    "print(date_start)"
   ]
  },
  {
   "cell_type": "markdown",
   "metadata": {},
   "source": [
    "If you want to jump from a certain date to another date, and you know the **difference** between them, you can use the **function** `datetime.timedelta()` to generate a time difference. The function accepts differences in days, hours, minutes, seconds and milliseconds. \n",
    "\n",
    "Let us determine the date of the **second day** of the course from the first day."
   ]
  },
  {
   "cell_type": "code",
   "execution_count": 15,
   "metadata": {},
   "outputs": [
    {
     "name": "stdout",
     "output_type": "stream",
     "text": [
      "2021-02-13 00:00:00\n"
     ]
    }
   ],
   "source": [
    "# define date when course started\n",
    "date_start = datetime.datetime(2021, 2, 12)\n",
    "\n",
    "# define date delta\n",
    "date_day = datetime.timedelta(days = 1) \n",
    "\n",
    "# compute date when day 2\n",
    "date_second = date_start + date_day\n",
    "\n",
    "# print date when day 2\n",
    "print(date_second)"
   ]
  },
  {
   "cell_type": "markdown",
   "metadata": {},
   "source": [
    "The dates you have created so far are a certain data type, but to actually get a string from them you have to use the **method** `strftime()`. This method also allows you to specify in which **format** the **date** should be returned. For example, the date format `DD/MM/YYYY` is defined like `%d/%m/%Y`. But there are many other ways to build your own date format, like you can see in the [Python documentation](https://docs.python.org/3/library/datetime.html#strftime-and-strptime-behavior). \n",
    "\n",
    "Let us write the date of the **first day** as a **string**. "
   ]
  },
  {
   "cell_type": "code",
   "execution_count": 16,
   "metadata": {},
   "outputs": [
    {
     "name": "stdout",
     "output_type": "stream",
     "text": [
      "12/02/2021\n"
     ]
    }
   ],
   "source": [
    "# define date when day 1\n",
    "date_start = datetime.datetime(2021, 2, 12)\n",
    "\n",
    "# define date as string in specific format\n",
    "date_str = date_start.strftime(\"%d/%m/%Y\")\n",
    "\n",
    "# print date when day 1\n",
    "print(date_str)"
   ]
  },
  {
   "cell_type": "markdown",
   "metadata": {},
   "source": [
    "The other way around you can also **parse** a **string** in any date format as datetime object. For that, the function `datetime.datetime.strptime()` requires the **string** with the **date**, its corresponding **date format** and then returns the **date**. Like this you can perfom all steps shown so far and many others.\n",
    "\n",
    "Let us load the **date string** of the **first day** with **datetime**. "
   ]
  },
  {
   "cell_type": "code",
   "execution_count": 17,
   "metadata": {},
   "outputs": [
    {
     "name": "stdout",
     "output_type": "stream",
     "text": [
      "2021-02-12 00:00:00\n"
     ]
    }
   ],
   "source": [
    "# define date string\n",
    "date_str = \"12/2/2021\"\n",
    "\n",
    "# parse date string as date\n",
    "date_par = datetime.datetime.strptime(date_str, \"%d/%m/%Y\")\n",
    "\n",
    "# print parsed date\n",
    "print(date_par)"
   ]
  },
  {
   "cell_type": "code",
   "execution_count": 2,
   "metadata": {},
   "outputs": [],
   "source": [
    "import datetime"
   ]
  },
  {
   "cell_type": "code",
   "execution_count": null,
   "metadata": {},
   "outputs": [],
   "source": [
    "lis"
   ]
  },
  {
   "cell_type": "markdown",
   "metadata": {},
   "source": [
    "<div class=\"alert alert-block alert-info\">\n",
    "    <b>Exercise</b>: Repeat the previous task where you wrote a function to sort a list of dates. This time use the datetime module to sort the list. Return the dates in the same date format again. \n",
    "</div>"
   ]
  },
  {
   "cell_type": "code",
   "execution_count": 10,
   "metadata": {},
   "outputs": [
    {
     "name": "stdout",
     "output_type": "stream",
     "text": [
      "2017-02-13 00:00:00\n",
      "2016-07-28 00:00:00\n",
      "2013-04-02 00:00:00\n",
      "2018-09-30 00:00:00\n",
      "2018-05-01 00:00:00\n",
      "[datetime.datetime(2017, 2, 13, 0, 0), datetime.datetime(2016, 7, 28, 0, 0), datetime.datetime(2013, 4, 2, 0, 0), datetime.datetime(2018, 9, 30, 0, 0), datetime.datetime(2018, 5, 1, 0, 0)]\n",
      "2013-04-02 00:00:00\n",
      "2016-07-28 00:00:00\n",
      "2017-02-13 00:00:00\n",
      "2018-05-01 00:00:00\n",
      "2018-09-30 00:00:00\n"
     ]
    }
   ],
   "source": [
    "# define global variable\n",
    "dates = [\"13/02/2017\", \"28/07/2016\", \"02/04/2013\", \"30/09/2018\", \"01/05/2018\"]\n",
    "\n",
    "# convert to datetime\n",
    "for i in range(5):\n",
    "    dates[i] = datetime.datetime.strptime(dates[i], \"%d/%m/%Y\")\n",
    "    print(dates[i])\n",
    "\n",
    "print(dates) #looks a bit weird\n",
    "\n",
    "# define function\n",
    "def datetime_sort(list):\n",
    "    dates = sorted(list)\n",
    "    return dates\n",
    "\n",
    "# call function\n",
    "new_dates = datetime_sort(list=dates)\n",
    "\n",
    "# print dates\n",
    "for j in range(5):\n",
    "    print(new_dates[j])"
   ]
  },
  {
   "cell_type": "code",
   "execution_count": 6,
   "metadata": {},
   "outputs": [],
   "source": [
    "import random"
   ]
  },
  {
   "cell_type": "markdown",
   "metadata": {},
   "source": [
    "<div class=\"alert alert-block alert-info\">\n",
    "    <b>Exercise</b>: Write a function that generates a random date. Define two additional parameters which take strings with the earliest and latest date. The dates handed in and out of the function are strings in the format DD/MM/YYYY. Use the modules random and datetime.\n",
    "</div>"
   ]
  },
  {
   "cell_type": "code",
   "execution_count": 9,
   "metadata": {},
   "outputs": [
    {
     "data": {
      "text/plain": [
       "'31/03/2004'"
      ]
     },
     "execution_count": 9,
     "metadata": {},
     "output_type": "execute_result"
    }
   ],
   "source": [
    "def random_date(earliest = \"01/01/2000\", latest = \"21/05/2021\"):\n",
    "    latest = datetime.datetime.strptime(latest, \"%d/%m/%Y\")\n",
    "    earliest = datetime.datetime.strptime(earliest, \"%d/%m/%Y\")\n",
    "    delta = latest - earliest\n",
    "    time = earliest + random.random() * delta\n",
    "    return time.strftime(\"%d/%m/%Y\")\n",
    "    \n",
    "random_date()"
   ]
  },
  {
   "cell_type": "code",
   "execution_count": null,
   "metadata": {},
   "outputs": [],
   "source": []
  },
  {
   "cell_type": "markdown",
   "metadata": {},
   "source": [
    "### Re"
   ]
  },
  {
   "cell_type": "markdown",
   "metadata": {},
   "source": [
    "The module `re` allows us to work with **regular expressions**, which are **search patterns** for **strings**. These regular expressions can be arbitrarily complicated, also to find **complicated** and **varying character sequences**. If you have written a regular expression, you can check if such a string is inside another string and what it looks like. \n",
    "\n",
    "Let us first **import** the **module**."
   ]
  },
  {
   "cell_type": "code",
   "execution_count": 53,
   "metadata": {},
   "outputs": [],
   "source": [
    "import re"
   ]
  },
  {
   "cell_type": "markdown",
   "metadata": {},
   "source": [
    "First, we need to get an idea how to **write** a **regular expression**. In regular expressions some **characters** are reserved for a **specific meaning**, i.e. they are not matched with themselves but with **another meaning**. If you want to match a special character literally, you need to **escape** it with a **backslash** `\\`. We will only be able to discuss the simplest characters here. A few of these characteres are listed in the table below. \n",
    "\n",
    "| Character | Description |\n",
    "| -------- | ------- |\n",
    "| `.` | any character |\n",
    "| `^` | starts with |\n",
    "| `$` | ends with |\n",
    "| `[]` | set of characters |\n",
    "| `\\|` | either or |\n",
    "| `*` | zero or more occurrences |\n",
    "| `+` | one or more occurrences |\n",
    "| `\\d` | digit |\n",
    "| `\\D` | no digit |\n",
    "| `\\w` | word character |\n",
    "| `\\W` | no word character |\n",
    "| `\\s` | whitespace character |\n",
    "| `\\S` | no whitespace character |\n",
    "\n",
    "Suppose we want to check whether strings have a certain **date format**. For that, we want to write a suitable **regular expression**. We want the dates to be in the **format** `DD/MM/YYYY`. \n",
    "\n",
    "Let us check with a **regular expression** whether the correct date format is found. To **match** a string with a regular expression, we use the **function** `re.match()`. "
   ]
  },
  {
   "cell_type": "code",
   "execution_count": 54,
   "metadata": {},
   "outputs": [
    {
     "name": "stdout",
     "output_type": "stream",
     "text": [
      "<re.Match object; span=(0, 10), match='14/10/2019'>\n"
     ]
    }
   ],
   "source": [
    "# define date string in correct format\n",
    "date_str = \"14/10/2019\"\n",
    "\n",
    "# write regular expression\n",
    "reg_ex = \"^\\d\\d\\/\\d\\d\\/\\d\\d\\d\\d$\"\n",
    "\n",
    "# search with regular expression\n",
    "reg_match = re.match(reg_ex, date_str)\n",
    "\n",
    "# print whether match\n",
    "print(reg_match)"
   ]
  },
  {
   "cell_type": "code",
   "execution_count": 55,
   "metadata": {},
   "outputs": [
    {
     "name": "stdout",
     "output_type": "stream",
     "text": [
      "None\n"
     ]
    }
   ],
   "source": [
    "# define date string in wrong format\n",
    "date_str = \"14-10-19\"\n",
    "\n",
    "# write regular expression\n",
    "reg_ex = \"^\\d\\d\\.\\d\\d\\.\\d\\d$\"\n",
    "\n",
    "# search with regular expression\n",
    "reg_match = re.match(reg_ex, date_str)\n",
    "\n",
    "# print whether match\n",
    "print(reg_match)"
   ]
  },
  {
   "cell_type": "markdown",
   "metadata": {},
   "source": [
    "### Csv"
   ]
  },
  {
   "cell_type": "markdown",
   "metadata": {},
   "source": [
    "The **module** `csv` provides functionalities to **read** and **write** to **CSV files**. This way you can conveniently get informationen **into** and **out** of your **program**. In CSV files you can find tabular data as **c**omma-**s**eparated **v**alues. Each line is a data record. And each record has one or more fields which are comma separated. \n",
    "\n",
    "Let us first **import** the **module**."
   ]
  },
  {
   "cell_type": "code",
   "execution_count": 56,
   "metadata": {},
   "outputs": [],
   "source": [
    "import csv"
   ]
  },
  {
   "cell_type": "markdown",
   "metadata": {},
   "source": [
    "Suppose we have calculated results in our code which we want to save now. For this, we want to use a CSV file. Therefore, we have to open a CSV file first, where we will write later. The most common way to **open** a **file** is to open it in a `with` **block** with the **function** `open()` given a certain **variable name**. Inside the `with` block you can access the opened file with the variable name. Next, you create a **writer** like `csv.writer()` who will write your information into the respective file. There you can also specify in which **format** you want to write your CSV file. Once the writer is created, you can use its **method** `writerow()` to **write** a **sequence of information** into the file. \n",
    "\n",
    "Let us try to **write** some **test data** into a CSV file. "
   ]
  },
  {
   "cell_type": "code",
   "execution_count": 57,
   "metadata": {},
   "outputs": [],
   "source": [
    "# open file\n",
    "with open(file=\"test.csv\", mode=\"w\") as csv_file:\n",
    "    # create writer\n",
    "    writer = csv.writer(csv_file, delimiter=',')\n",
    "    \n",
    "    # witer row with header\n",
    "    writer.writerow([\"number1\", \"number2\", \"number3\", \"number4\", \"number5\"])\n",
    "    \n",
    "    # write row with zeros\n",
    "    writer.writerow([0,0,0,0,0])\n",
    "    \n",
    "    # write row with random numbers and list comprehension\n",
    "    writer.writerow([random.random() for i in range(5)])"
   ]
  },
  {
   "cell_type": "markdown",
   "metadata": {},
   "source": [
    "You can also **load data** from a CSV file in the same way. In principle, this works exactly the same, except that the file is now opened in **read mode** `r` and a **reader** is created like `csv.reader()`. Then you can get the rows of the CSV file as a **sequence** from the **reader**, e.g. with a `for` loop. \n",
    "\n",
    "Let us try to **read** our **test data** from the CSV file again. "
   ]
  },
  {
   "cell_type": "code",
   "execution_count": 58,
   "metadata": {},
   "outputs": [
    {
     "name": "stdout",
     "output_type": "stream",
     "text": [
      "['number1', 'number2', 'number3', 'number4', 'number5']\n",
      "[]\n",
      "['0', '0', '0', '0', '0']\n",
      "[]\n",
      "['0.6488539744120456', '0.8325765404421139', '0.9888735139157468', '0.9322143923769549', '0.7933123406870071']\n",
      "[]\n"
     ]
    }
   ],
   "source": [
    "# open file\n",
    "with open(file=\"test.csv\", mode=\"r\") as csv_file:\n",
    "    # create reader\n",
    "    csv_reader = csv.reader(csv_file, delimiter=',')\n",
    "    \n",
    "    # iterate over rows in file\n",
    "    for row in csv_reader:\n",
    "        # print row\n",
    "        print(row)"
   ]
  },
  {
   "cell_type": "markdown",
   "metadata": {},
   "source": [
    "<div class=\"alert alert-block alert-info\">\n",
    "    <b>Exercise</b>: Download the table available <a href=\"https://raw.githubusercontent.com/therbootcamp/BaselRBootcamp_2018July/master/_sessions/_data/baselrbootcamp_data/%5EGDAXI.csv\">here</a>. Import the data as nested list. Use the module csv. Inspect the data. \n",
    "</div>"
   ]
  },
  {
   "cell_type": "code",
   "execution_count": 19,
   "metadata": {},
   "outputs": [
    {
     "ename": "FileNotFoundError",
     "evalue": "[Errno 2] No such file or directory: 'GDAXI.csv'",
     "output_type": "error",
     "traceback": [
      "\u001b[1;31m---------------------------------------------------------------------------\u001b[0m",
      "\u001b[1;31mFileNotFoundError\u001b[0m                         Traceback (most recent call last)",
      "\u001b[1;32m<ipython-input-19-3ab9ed24b9ae>\u001b[0m in \u001b[0;36m<module>\u001b[1;34m\u001b[0m\n\u001b[0;32m      1\u001b[0m \u001b[1;31m# open file\u001b[0m\u001b[1;33m\u001b[0m\u001b[1;33m\u001b[0m\u001b[1;33m\u001b[0m\u001b[0m\n\u001b[1;32m----> 2\u001b[1;33m \u001b[1;32mwith\u001b[0m \u001b[0mopen\u001b[0m\u001b[1;33m(\u001b[0m\u001b[0mfile\u001b[0m\u001b[1;33m=\u001b[0m\u001b[1;34m\"GDAXI.csv\"\u001b[0m\u001b[1;33m,\u001b[0m \u001b[0mmode\u001b[0m\u001b[1;33m=\u001b[0m\u001b[1;34m\"r\"\u001b[0m\u001b[1;33m)\u001b[0m \u001b[1;32mas\u001b[0m \u001b[0mcsv_file\u001b[0m\u001b[1;33m:\u001b[0m\u001b[1;33m\u001b[0m\u001b[1;33m\u001b[0m\u001b[0m\n\u001b[0m\u001b[0;32m      3\u001b[0m     \u001b[1;31m# create reader\u001b[0m\u001b[1;33m\u001b[0m\u001b[1;33m\u001b[0m\u001b[1;33m\u001b[0m\u001b[0m\n\u001b[0;32m      4\u001b[0m     \u001b[0mcsv_reader\u001b[0m \u001b[1;33m=\u001b[0m \u001b[0mcsv\u001b[0m\u001b[1;33m.\u001b[0m\u001b[0mreader\u001b[0m\u001b[1;33m(\u001b[0m\u001b[0mcsv_file\u001b[0m\u001b[1;33m,\u001b[0m \u001b[0mdelimiter\u001b[0m\u001b[1;33m=\u001b[0m\u001b[1;34m','\u001b[0m\u001b[1;33m)\u001b[0m\u001b[1;33m\u001b[0m\u001b[1;33m\u001b[0m\u001b[0m\n\u001b[0;32m      5\u001b[0m     \u001b[1;31m# create list\u001b[0m\u001b[1;33m\u001b[0m\u001b[1;33m\u001b[0m\u001b[1;33m\u001b[0m\u001b[0m\n",
      "\u001b[1;31mFileNotFoundError\u001b[0m: [Errno 2] No such file or directory: 'GDAXI.csv'"
     ]
    }
   ],
   "source": [
    "# open file\n",
    "with open(file=\"GDAXI.csv\", mode=\"r\") as csv_file:\n",
    "    # create reader\n",
    "    csv_reader = csv.reader(csv_file, delimiter=',')\n",
    "    # create list\n",
    "    gdaxi = []\n",
    "    \n",
    "    # iterate over rows in file\n",
    "    for row in csv_reader:\n",
    "        # add row to list\n",
    "        gdaxi.append(row)\n",
    "    \n"
   ]
  },
  {
   "cell_type": "markdown",
   "metadata": {},
   "source": [
    "## 3.5 External Packages"
   ]
  },
  {
   "cell_type": "markdown",
   "metadata": {},
   "source": [
    "One of the major advantages of Python is its variety of **external packages**. In addition to built-in modukes, like they are not enough already, there is an enormous amount of external packages. These external packages have to be **installed** before they can actually be imported and used. After they are installed they can be used like built-in modules. The following list shows which **packages** we will use today and in the rest of the week. \n",
    "\n",
    "| Package | Description |\n",
    "| -------- | ------- |\n",
    "| `numpy` | scientific computing with arrays |\n",
    "| `sklearn` | machine learning |\n",
    "| `pandas` | data structures and data analysis |\n",
    "| `matplotlib` | figures |\n",
    "| `beautifulsoup4` | parsing of web pages |\n"
   ]
  },
  {
   "cell_type": "code",
   "execution_count": null,
   "metadata": {},
   "outputs": [],
   "source": [
    "pip install numpy"
   ]
  },
  {
   "cell_type": "code",
   "execution_count": null,
   "metadata": {},
   "outputs": [],
   "source": [
    "pip install sklearn"
   ]
  },
  {
   "cell_type": "code",
   "execution_count": null,
   "metadata": {},
   "outputs": [],
   "source": [
    "pip install pandas"
   ]
  },
  {
   "cell_type": "code",
   "execution_count": null,
   "metadata": {},
   "outputs": [],
   "source": [
    "pip install matplotlib"
   ]
  },
  {
   "cell_type": "code",
   "execution_count": null,
   "metadata": {},
   "outputs": [],
   "source": [
    "pip install beautifulsoup4"
   ]
  },
  {
   "cell_type": "code",
   "execution_count": null,
   "metadata": {},
   "outputs": [],
   "source": []
  },
  {
   "cell_type": "code",
   "execution_count": null,
   "metadata": {},
   "outputs": [],
   "source": []
  },
  {
   "cell_type": "code",
   "execution_count": null,
   "metadata": {},
   "outputs": [],
   "source": []
  },
  {
   "cell_type": "code",
   "execution_count": null,
   "metadata": {},
   "outputs": [],
   "source": []
  },
  {
   "cell_type": "code",
   "execution_count": null,
   "metadata": {},
   "outputs": [],
   "source": []
  },
  {
   "cell_type": "markdown",
   "metadata": {},
   "source": [
    "Original Source: \n",
    "Python Block Course; Prof. Dr. Karsten Donnay, Stefan Scholz; Winter Term 2019 / 2020"
   ]
  }
 ],
 "metadata": {
  "kernelspec": {
   "display_name": "Python 3",
   "language": "python",
   "name": "python3"
  },
  "language_info": {
   "codemirror_mode": {
    "name": "ipython",
    "version": 3
   },
   "file_extension": ".py",
   "mimetype": "text/x-python",
   "name": "python",
   "nbconvert_exporter": "python",
   "pygments_lexer": "ipython3",
   "version": "3.8.3"
  }
 },
 "nbformat": 4,
 "nbformat_minor": 4
}
